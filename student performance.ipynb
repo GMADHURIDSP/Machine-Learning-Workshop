{
 "cells": [
  {
   "cell_type": "code",
   "execution_count": 60,
   "metadata": {},
   "outputs": [],
   "source": [
    "import pandas as pd\n",
    "import numpy as np\n",
    "import matplotlib.pyplot as plt\n",
    "import seaborn as sns\n",
    "%matplotlib inline"
   ]
  },
  {
   "cell_type": "code",
   "execution_count": 61,
   "metadata": {},
   "outputs": [],
   "source": [
    "from sklearn.model_selection import train_test_split\n",
    "from sklearn.linear_model import LinearRegression\n",
    "from sklearn import metrics"
   ]
  },
  {
   "cell_type": "code",
   "execution_count": 4,
   "metadata": {},
   "outputs": [
    {
     "data": {
      "text/html": [
       "<div>\n",
       "<style scoped>\n",
       "    .dataframe tbody tr th:only-of-type {\n",
       "        vertical-align: middle;\n",
       "    }\n",
       "\n",
       "    .dataframe tbody tr th {\n",
       "        vertical-align: top;\n",
       "    }\n",
       "\n",
       "    .dataframe thead th {\n",
       "        text-align: right;\n",
       "    }\n",
       "</style>\n",
       "<table border=\"1\" class=\"dataframe\">\n",
       "  <thead>\n",
       "    <tr style=\"text-align: right;\">\n",
       "      <th></th>\n",
       "      <th>math score</th>\n",
       "      <th>reading score</th>\n",
       "      <th>writing score</th>\n",
       "    </tr>\n",
       "  </thead>\n",
       "  <tbody>\n",
       "    <tr>\n",
       "      <td>count</td>\n",
       "      <td>1000.00000</td>\n",
       "      <td>1000.000000</td>\n",
       "      <td>1000.000000</td>\n",
       "    </tr>\n",
       "    <tr>\n",
       "      <td>mean</td>\n",
       "      <td>66.08900</td>\n",
       "      <td>69.169000</td>\n",
       "      <td>68.054000</td>\n",
       "    </tr>\n",
       "    <tr>\n",
       "      <td>std</td>\n",
       "      <td>15.16308</td>\n",
       "      <td>14.600192</td>\n",
       "      <td>15.195657</td>\n",
       "    </tr>\n",
       "    <tr>\n",
       "      <td>min</td>\n",
       "      <td>0.00000</td>\n",
       "      <td>17.000000</td>\n",
       "      <td>10.000000</td>\n",
       "    </tr>\n",
       "    <tr>\n",
       "      <td>25%</td>\n",
       "      <td>57.00000</td>\n",
       "      <td>59.000000</td>\n",
       "      <td>57.750000</td>\n",
       "    </tr>\n",
       "    <tr>\n",
       "      <td>50%</td>\n",
       "      <td>66.00000</td>\n",
       "      <td>70.000000</td>\n",
       "      <td>69.000000</td>\n",
       "    </tr>\n",
       "    <tr>\n",
       "      <td>75%</td>\n",
       "      <td>77.00000</td>\n",
       "      <td>79.000000</td>\n",
       "      <td>79.000000</td>\n",
       "    </tr>\n",
       "    <tr>\n",
       "      <td>max</td>\n",
       "      <td>100.00000</td>\n",
       "      <td>100.000000</td>\n",
       "      <td>100.000000</td>\n",
       "    </tr>\n",
       "  </tbody>\n",
       "</table>\n",
       "</div>"
      ],
      "text/plain": [
       "       math score  reading score  writing score\n",
       "count  1000.00000    1000.000000    1000.000000\n",
       "mean     66.08900      69.169000      68.054000\n",
       "std      15.16308      14.600192      15.195657\n",
       "min       0.00000      17.000000      10.000000\n",
       "25%      57.00000      59.000000      57.750000\n",
       "50%      66.00000      70.000000      69.000000\n",
       "75%      77.00000      79.000000      79.000000\n",
       "max     100.00000     100.000000     100.000000"
      ]
     },
     "execution_count": 4,
     "metadata": {},
     "output_type": "execute_result"
    }
   ],
   "source": [
    "data = pd.read_csv(\"C:/Users/RGUKT/Desktop/StudentsPerformance.csv\")\n",
    "data.describe()"
   ]
  },
  {
   "cell_type": "code",
   "execution_count": 5,
   "metadata": {},
   "outputs": [
    {
     "name": "stdout",
     "output_type": "stream",
     "text": [
      "<class 'pandas.core.frame.DataFrame'>\n",
      "RangeIndex: 1000 entries, 0 to 999\n",
      "Data columns (total 8 columns):\n",
      "gender                         1000 non-null object\n",
      "race/ethnicity                 1000 non-null object\n",
      "parental level of education    1000 non-null object\n",
      "lunch                          1000 non-null object\n",
      "test preparation course        1000 non-null object\n",
      "math score                     1000 non-null int64\n",
      "reading score                  1000 non-null int64\n",
      "writing score                  1000 non-null int64\n",
      "dtypes: int64(3), object(5)\n",
      "memory usage: 62.6+ KB\n"
     ]
    }
   ],
   "source": [
    "data.info()"
   ]
  },
  {
   "cell_type": "code",
   "execution_count": 6,
   "metadata": {},
   "outputs": [
    {
     "data": {
      "text/html": [
       "<div>\n",
       "<style scoped>\n",
       "    .dataframe tbody tr th:only-of-type {\n",
       "        vertical-align: middle;\n",
       "    }\n",
       "\n",
       "    .dataframe tbody tr th {\n",
       "        vertical-align: top;\n",
       "    }\n",
       "\n",
       "    .dataframe thead th {\n",
       "        text-align: right;\n",
       "    }\n",
       "</style>\n",
       "<table border=\"1\" class=\"dataframe\">\n",
       "  <thead>\n",
       "    <tr style=\"text-align: right;\">\n",
       "      <th></th>\n",
       "      <th>gender</th>\n",
       "      <th>race/ethnicity</th>\n",
       "      <th>parental level of education</th>\n",
       "      <th>lunch</th>\n",
       "      <th>test preparation course</th>\n",
       "      <th>math score</th>\n",
       "      <th>reading score</th>\n",
       "      <th>writing score</th>\n",
       "    </tr>\n",
       "  </thead>\n",
       "  <tbody>\n",
       "    <tr>\n",
       "      <td>0</td>\n",
       "      <td>female</td>\n",
       "      <td>group B</td>\n",
       "      <td>bachelor's degree</td>\n",
       "      <td>standard</td>\n",
       "      <td>none</td>\n",
       "      <td>72</td>\n",
       "      <td>72</td>\n",
       "      <td>74</td>\n",
       "    </tr>\n",
       "    <tr>\n",
       "      <td>1</td>\n",
       "      <td>female</td>\n",
       "      <td>group C</td>\n",
       "      <td>some college</td>\n",
       "      <td>standard</td>\n",
       "      <td>completed</td>\n",
       "      <td>69</td>\n",
       "      <td>90</td>\n",
       "      <td>88</td>\n",
       "    </tr>\n",
       "    <tr>\n",
       "      <td>2</td>\n",
       "      <td>female</td>\n",
       "      <td>group B</td>\n",
       "      <td>master's degree</td>\n",
       "      <td>standard</td>\n",
       "      <td>none</td>\n",
       "      <td>90</td>\n",
       "      <td>95</td>\n",
       "      <td>93</td>\n",
       "    </tr>\n",
       "    <tr>\n",
       "      <td>3</td>\n",
       "      <td>male</td>\n",
       "      <td>group A</td>\n",
       "      <td>associate's degree</td>\n",
       "      <td>free/reduced</td>\n",
       "      <td>none</td>\n",
       "      <td>47</td>\n",
       "      <td>57</td>\n",
       "      <td>44</td>\n",
       "    </tr>\n",
       "    <tr>\n",
       "      <td>4</td>\n",
       "      <td>male</td>\n",
       "      <td>group C</td>\n",
       "      <td>some college</td>\n",
       "      <td>standard</td>\n",
       "      <td>none</td>\n",
       "      <td>76</td>\n",
       "      <td>78</td>\n",
       "      <td>75</td>\n",
       "    </tr>\n",
       "  </tbody>\n",
       "</table>\n",
       "</div>"
      ],
      "text/plain": [
       "   gender race/ethnicity parental level of education         lunch  \\\n",
       "0  female        group B           bachelor's degree      standard   \n",
       "1  female        group C                some college      standard   \n",
       "2  female        group B             master's degree      standard   \n",
       "3    male        group A          associate's degree  free/reduced   \n",
       "4    male        group C                some college      standard   \n",
       "\n",
       "  test preparation course  math score  reading score  writing score  \n",
       "0                    none          72             72             74  \n",
       "1               completed          69             90             88  \n",
       "2                    none          90             95             93  \n",
       "3                    none          47             57             44  \n",
       "4                    none          76             78             75  "
      ]
     },
     "execution_count": 6,
     "metadata": {},
     "output_type": "execute_result"
    }
   ],
   "source": [
    "data.head()"
   ]
  },
  {
   "cell_type": "code",
   "execution_count": 7,
   "metadata": {},
   "outputs": [
    {
     "data": {
      "text/plain": [
       "gender                         0\n",
       "race/ethnicity                 0\n",
       "parental level of education    0\n",
       "lunch                          0\n",
       "test preparation course        0\n",
       "math score                     0\n",
       "reading score                  0\n",
       "writing score                  0\n",
       "dtype: int64"
      ]
     },
     "execution_count": 7,
     "metadata": {},
     "output_type": "execute_result"
    }
   ],
   "source": [
    "data.isnull().sum()"
   ]
  },
  {
   "cell_type": "code",
   "execution_count": 8,
   "metadata": {},
   "outputs": [
    {
     "data": {
      "text/plain": [
       "female    518\n",
       "male      482\n",
       "Name: gender, dtype: int64"
      ]
     },
     "execution_count": 8,
     "metadata": {},
     "output_type": "execute_result"
    }
   ],
   "source": [
    "data[\"gender\"].value_counts()"
   ]
  },
  {
   "cell_type": "code",
   "execution_count": 9,
   "metadata": {},
   "outputs": [
    {
     "data": {
      "text/plain": [
       "some college          226\n",
       "associate's degree    222\n",
       "high school           196\n",
       "some high school      179\n",
       "bachelor's degree     118\n",
       "master's degree        59\n",
       "Name: parental level of education, dtype: int64"
      ]
     },
     "execution_count": 9,
     "metadata": {},
     "output_type": "execute_result"
    }
   ],
   "source": [
    "data['parental level of education'].value_counts()"
   ]
  },
  {
   "cell_type": "code",
   "execution_count": 10,
   "metadata": {},
   "outputs": [
    {
     "data": {
      "text/plain": [
       "group C    319\n",
       "group D    262\n",
       "group B    190\n",
       "group E    140\n",
       "group A     89\n",
       "Name: race/ethnicity, dtype: int64"
      ]
     },
     "execution_count": 10,
     "metadata": {},
     "output_type": "execute_result"
    }
   ],
   "source": [
    "data[\"race/ethnicity\"].value_counts()"
   ]
  },
  {
   "cell_type": "code",
   "execution_count": 11,
   "metadata": {},
   "outputs": [
    {
     "data": {
      "text/plain": [
       "standard        645\n",
       "free/reduced    355\n",
       "Name: lunch, dtype: int64"
      ]
     },
     "execution_count": 11,
     "metadata": {},
     "output_type": "execute_result"
    }
   ],
   "source": [
    "data[\"lunch\"].value_counts()"
   ]
  },
  {
   "cell_type": "code",
   "execution_count": 12,
   "metadata": {},
   "outputs": [
    {
     "data": {
      "text/plain": [
       "none         642\n",
       "completed    358\n",
       "Name: test preparation course, dtype: int64"
      ]
     },
     "execution_count": 12,
     "metadata": {},
     "output_type": "execute_result"
    }
   ],
   "source": [
    "data[\"test preparation course\"].value_counts()"
   ]
  },
  {
   "cell_type": "code",
   "execution_count": 13,
   "metadata": {},
   "outputs": [
    {
     "data": {
      "text/plain": [
       "65    36\n",
       "62    35\n",
       "59    32\n",
       "69    32\n",
       "73    27\n",
       "      ..\n",
       "22     1\n",
       "19     1\n",
       "18     1\n",
       "8      1\n",
       "0      1\n",
       "Name: math score, Length: 81, dtype: int64"
      ]
     },
     "execution_count": 13,
     "metadata": {},
     "output_type": "execute_result"
    }
   ],
   "source": [
    "data[\"math score\"].value_counts()"
   ]
  },
  {
   "cell_type": "code",
   "execution_count": 14,
   "metadata": {},
   "outputs": [
    {
     "data": {
      "text/plain": [
       "72    34\n",
       "74    33\n",
       "64    32\n",
       "73    30\n",
       "67    30\n",
       "      ..\n",
       "32     1\n",
       "28     1\n",
       "26     1\n",
       "23     1\n",
       "17     1\n",
       "Name: reading score, Length: 72, dtype: int64"
      ]
     },
     "execution_count": 14,
     "metadata": {},
     "output_type": "execute_result"
    }
   ],
   "source": [
    "data[\"reading score\"].value_counts()"
   ]
  },
  {
   "cell_type": "code",
   "execution_count": 15,
   "metadata": {},
   "outputs": [
    {
     "data": {
      "text/plain": [
       "74    35\n",
       "70    33\n",
       "68    31\n",
       "73    28\n",
       "62    27\n",
       "      ..\n",
       "23     1\n",
       "22     1\n",
       "19     1\n",
       "15     1\n",
       "10     1\n",
       "Name: writing score, Length: 77, dtype: int64"
      ]
     },
     "execution_count": 15,
     "metadata": {},
     "output_type": "execute_result"
    }
   ],
   "source": [
    "data[\"writing score\"].value_counts()"
   ]
  },
  {
   "cell_type": "code",
   "execution_count": 16,
   "metadata": {},
   "outputs": [
    {
     "data": {
      "text/plain": [
       "<matplotlib.axes._subplots.AxesSubplot at 0x2d7d35de888>"
      ]
     },
     "execution_count": 16,
     "metadata": {},
     "output_type": "execute_result"
    },
    {
     "data": {
      "image/png": "[encoded data removed]",
      "text/plain": [
       "<Figure size 1440x576 with 1 Axes>"
      ]
     },
     "metadata": {
      "needs_background": "light"
     },
     "output_type": "display_data"
    }
   ],
   "source": [
    "plt.figure(figsize=(20,8))\n",
    "plt.subplot(1,3,1)\n",
    "sns.boxplot(x = 'gender', y = 'math score', data = data)"
   ]
  },
  {
   "cell_type": "code",
   "execution_count": 17,
   "metadata": {},
   "outputs": [
    {
     "data": {
      "text/plain": [
       "<matplotlib.axes._subplots.AxesSubplot at 0x2d7d3feb5c8>"
      ]
     },
     "execution_count": 17,
     "metadata": {},
     "output_type": "execute_result"
    },
    {
     "data": {
      "image/png": "[encoded data removed]",
      "text/plain": [
       "<Figure size 1440x576 with 1 Axes>"
      ]
     },
     "metadata": {
      "needs_background": "light"
     },
     "output_type": "display_data"
    }
   ],
   "source": [
    "plt.figure(figsize=(20,8))\n",
    "plt.subplot(1,3,1)\n",
    "sns.boxplot(x = 'gender', y = 'reading score', data = data)"
   ]
  },
  {
   "cell_type": "code",
   "execution_count": 18,
   "metadata": {},
   "outputs": [
    {
     "data": {
      "text/plain": [
       "<matplotlib.axes._subplots.AxesSubplot at 0x2d7d3cf6fc8>"
      ]
     },
     "execution_count": 18,
     "metadata": {},
     "output_type": "execute_result"
    },
    {
     "data": {
      "image/png": "[encoded data removed]",
      "text/plain": [
       "<Figure size 1440x576 with 1 Axes>"
      ]
     },
     "metadata": {
      "needs_background": "light"
     },
     "output_type": "display_data"
    }
   ],
   "source": [
    "plt.figure(figsize=(20,8))\n",
    "plt.subplot(1,3,1)\n",
    "sns.boxplot(x = 'gender', y = 'writing score', data = data)"
   ]
  },
  {
   "cell_type": "code",
   "execution_count": 19,
   "metadata": {},
   "outputs": [
    {
     "data": {
      "text/plain": [
       "<matplotlib.axes._subplots.AxesSubplot at 0x2d7d3d5fd48>"
      ]
     },
     "execution_count": 19,
     "metadata": {},
     "output_type": "execute_result"
    },
    {
     "data": {
      "image/png": "[encoded data removed]",
      "text/plain": [
       "<Figure size 1440x576 with 1 Axes>"
      ]
     },
     "metadata": {
      "needs_background": "light"
     },
     "output_type": "display_data"
    }
   ],
   "source": [
    "plt.figure(figsize=(20,8))\n",
    "plt.subplot(1,3,1)\n",
    "sns.boxplot(x = 'race/ethnicity', y = 'math score', data = data)"
   ]
  },
  {
   "cell_type": "code",
   "execution_count": 20,
   "metadata": {},
   "outputs": [
    {
     "data": {
      "text/plain": [
       "<matplotlib.axes._subplots.AxesSubplot at 0x2d7d3e2a608>"
      ]
     },
     "execution_count": 20,
     "metadata": {},
     "output_type": "execute_result"
    },
    {
     "data": {
      "image/png": "[encoded data removed]",
      "text/plain": [
       "<Figure size 1440x576 with 1 Axes>"
      ]
     },
     "metadata": {
      "needs_background": "light"
     },
     "output_type": "display_data"
    }
   ],
   "source": [
    "plt.figure(figsize=(20,8))\n",
    "plt.subplot(1,3,1)\n",
    "sns.boxplot(x = 'race/ethnicity', y = 'reading score', data = data)"
   ]
  },
  {
   "cell_type": "code",
   "execution_count": 21,
   "metadata": {},
   "outputs": [
    {
     "data": {
      "text/plain": [
       "<matplotlib.axes._subplots.AxesSubplot at 0x2d7d3ee9548>"
      ]
     },
     "execution_count": 21,
     "metadata": {},
     "output_type": "execute_result"
    },
    {
     "data": {
      "image/png": "[encoded data removed]",
      "text/plain": [
       "<Figure size 1440x576 with 1 Axes>"
      ]
     },
     "metadata": {
      "needs_background": "light"
     },
     "output_type": "display_data"
    }
   ],
   "source": [
    "plt.figure(figsize=(20,8))\n",
    "plt.subplot(1,3,1)\n",
    "sns.boxplot(x = 'race/ethnicity', y = 'writing score', data = data)"
   ]
  },
  {
   "cell_type": "code",
   "execution_count": 22,
   "metadata": {},
   "outputs": [
    {
     "data": {
      "text/plain": [
       "<matplotlib.axes._subplots.AxesSubplot at 0x2d7d3fa36c8>"
      ]
     },
     "execution_count": 22,
     "metadata": {},
     "output_type": "execute_result"
    },
    {
     "data": {
      "image/png": "[encoded data removed]",
      "text/plain": [
       "<Figure size 2880x576 with 1 Axes>"
      ]
     },
     "metadata": {
      "needs_background": "light"
     },
     "output_type": "display_data"
    }
   ],
   "source": [
    "plt.figure(figsize=(40,8))\n",
    "plt.subplot(1,3,1)\n",
    "sns.boxplot(x = 'parental level of education', y = 'math score', data = data)"
   ]
  },
  {
   "cell_type": "code",
   "execution_count": 23,
   "metadata": {},
   "outputs": [
    {
     "data": {
      "text/plain": [
       "<matplotlib.axes._subplots.AxesSubplot at 0x2d7d40cffc8>"
      ]
     },
     "execution_count": 23,
     "metadata": {},
     "output_type": "execute_result"
    },
    {
     "data": {
      "image/png": "[encoded data removed]",
      "text/plain": [
       "<Figure size 2880x576 with 1 Axes>"
      ]
     },
     "metadata": {
      "needs_background": "light"
     },
     "output_type": "display_data"
    }
   ],
   "source": [
    "plt.figure(figsize=(40,8))\n",
    "plt.subplot(1,3,1)\n",
    "sns.boxplot(x = 'parental level of education', y = 'writing score', data = data)"
   ]
  },
  {
   "cell_type": "code",
   "execution_count": 24,
   "metadata": {},
   "outputs": [
    {
     "data": {
      "text/plain": [
       "<matplotlib.axes._subplots.AxesSubplot at 0x2d7d415cd48>"
      ]
     },
     "execution_count": 24,
     "metadata": {},
     "output_type": "execute_result"
    },
    {
     "data": {
      "image/png": "[encoded data removed]",
      "text/plain": [
       "<Figure size 2880x576 with 1 Axes>"
      ]
     },
     "metadata": {
      "needs_background": "light"
     },
     "output_type": "display_data"
    }
   ],
   "source": [
    "plt.figure(figsize=(40,8))\n",
    "plt.subplot(1,3,1)\n",
    "sns.boxplot(x = 'parental level of education', y = 'reading score', data = data)"
   ]
  },
  {
   "cell_type": "code",
   "execution_count": 25,
   "metadata": {},
   "outputs": [
    {
     "data": {
      "text/plain": [
       "<matplotlib.axes._subplots.AxesSubplot at 0x2d7d4380f88>"
      ]
     },
     "execution_count": 25,
     "metadata": {},
     "output_type": "execute_result"
    },
    {
     "data": {
      "image/png": "[encoded data removed]",
      "text/plain": [
       "<Figure size 1440x576 with 1 Axes>"
      ]
     },
     "metadata": {
      "needs_background": "light"
     },
     "output_type": "display_data"
    }
   ],
   "source": [
    "plt.figure(figsize=(20,8))\n",
    "plt.subplot(1,3,1)\n",
    "sns.boxplot(x = 'lunch', y = 'math score', data = data)"
   ]
  },
  {
   "cell_type": "code",
   "execution_count": 26,
   "metadata": {},
   "outputs": [
    {
     "data": {
      "text/plain": [
       "<matplotlib.axes._subplots.AxesSubplot at 0x2d7d4380f48>"
      ]
     },
     "execution_count": 26,
     "metadata": {},
     "output_type": "execute_result"
    },
    {
     "data": {
      "image/png": "[encoded data removed]",
      "text/plain": [
       "<Figure size 1440x576 with 1 Axes>"
      ]
     },
     "metadata": {
      "needs_background": "light"
     },
     "output_type": "display_data"
    }
   ],
   "source": [
    "plt.figure(figsize=(20,8))\n",
    "plt.subplot(1,3,1)\n",
    "sns.boxplot(x = 'lunch', y = 'reading score', data = data)"
   ]
  },
  {
   "cell_type": "code",
   "execution_count": 27,
   "metadata": {},
   "outputs": [
    {
     "data": {
      "text/plain": [
       "<matplotlib.axes._subplots.AxesSubplot at 0x2d7d4578f88>"
      ]
     },
     "execution_count": 27,
     "metadata": {},
     "output_type": "execute_result"
    },
    {
     "data": {
      "image/png": "[encoded data removed]",
      "text/plain": [
       "<Figure size 1440x576 with 1 Axes>"
      ]
     },
     "metadata": {
      "needs_background": "light"
     },
     "output_type": "display_data"
    }
   ],
   "source": [
    "plt.figure(figsize=(20,8))\n",
    "plt.subplot(1,3,1)\n",
    "sns.boxplot(x = 'test preparation course', y = 'math score', data = data)"
   ]
  },
  {
   "cell_type": "code",
   "execution_count": 28,
   "metadata": {},
   "outputs": [
    {
     "data": {
      "image/png": "[encoded data removed]",
      "text/plain": [
       "<Figure size 648x576 with 2 Axes>"
      ]
     },
     "metadata": {
      "needs_background": "light"
     },
     "output_type": "display_data"
    }
   ],
   "source": [
    "plt.figure(figsize=(9,8))\n",
    "sns.heatmap(data.corr() , annot = True , cmap=\"inferno\")\n",
    "plt.show()"
   ]
  },
  {
   "cell_type": "code",
   "execution_count": 29,
   "metadata": {},
   "outputs": [
    {
     "data": {
      "text/plain": [
       "<seaborn.axisgrid.PairGrid at 0x2d7d48f14c8>"
      ]
     },
     "execution_count": 29,
     "metadata": {},
     "output_type": "execute_result"
    },
    {
     "data": {
      "image/png": "[encoded data removed]",
      "text/plain": [
       "<Figure size 610.5x540 with 12 Axes>"
      ]
     },
     "metadata": {
      "needs_background": "light"
     },
     "output_type": "display_data"
    }
   ],
   "source": [
    "sns.pairplot(data , hue=\"gender\",palette=\"dark\")"
   ]
  },
  {
   "cell_type": "code",
   "execution_count": 30,
   "metadata": {},
   "outputs": [
    {
     "data": {
      "image/png": "[encoded data removed]",
      "text/plain": [
       "<Figure size 936x288 with 3 Axes>"
      ]
     },
     "metadata": {
      "needs_background": "light"
     },
     "output_type": "display_data"
    }
   ],
   "source": [
    "plt.figure(figsize=(13,4))\n",
    "\n",
    "plt.subplot(1,3,1)\n",
    "sns.barplot(x = \"race/ethnicity\" , y=\"reading score\" , data=data)\n",
    "plt.title(\"Reading Scores\")\n",
    "\n",
    "plt.subplot(1,3,2)\n",
    "sns.barplot(x = \"race/ethnicity\" , y=\"writing score\" , data=data)\n",
    "plt.title(\"Writing Scores\")\n",
    "\n",
    "plt.subplot(1,3,3)\n",
    "sns.barplot(x = \"race/ethnicity\" , y=\"math score\" , data=data)\n",
    "plt.title(\"Math Scores\")\n",
    "\n",
    "plt.tight_layout()\n",
    "plt.show()"
   ]
  },
  {
   "cell_type": "code",
   "execution_count": 31,
   "metadata": {},
   "outputs": [
    {
     "data": {
      "image/png": "[encoded data removed]",
      "text/plain": [
       "<Figure size 936x288 with 3 Axes>"
      ]
     },
     "metadata": {
      "needs_background": "light"
     },
     "output_type": "display_data"
    }
   ],
   "source": [
    "plt.figure(figsize=(13,4))\n",
    "\n",
    "plt.subplot(1,3,1)\n",
    "sns.barplot(x = \"lunch\" , y=\"reading score\" , data=data)\n",
    "plt.title(\"Reading Scores\")\n",
    "\n",
    "plt.subplot(1,3,2)\n",
    "sns.barplot(x = \"lunch\" , y=\"writing score\" , data=data)\n",
    "plt.title(\"Writing Scores\")\n",
    "\n",
    "plt.subplot(1,3,3)\n",
    "sns.barplot(x = \"lunch\" , y=\"math score\" , data=data)\n",
    "plt.title(\"Math Scores\")\n",
    "\n",
    "plt.tight_layout()\n",
    "plt.show()"
   ]
  },
  {
   "cell_type": "code",
   "execution_count": 32,
   "metadata": {},
   "outputs": [
    {
     "data": {
      "image/png": "[encoded data removed]",
      "text/plain": [
       "<Figure size 936x288 with 3 Axes>"
      ]
     },
     "metadata": {
      "needs_background": "light"
     },
     "output_type": "display_data"
    }
   ],
   "source": [
    "plt.figure(figsize=(13,4))\n",
    "\n",
    "plt.subplot(1,3,1)\n",
    "sns.barplot(x = \"test preparation course\" , y=\"reading score\" , data=data)\n",
    "plt.title(\"Reading Scores\")\n",
    "\n",
    "plt.subplot(1,3,2)\n",
    "sns.barplot(x = \"test preparation course\" , y=\"writing score\" , data=data)\n",
    "plt.title(\"Writing Scores\")\n",
    "\n",
    "plt.subplot(1,3,3)\n",
    "sns.barplot(x = \"test preparation course\" , y=\"math score\" , data=data)\n",
    "plt.title(\"Math Scores\")\n",
    "\n",
    "plt.tight_layout()\n",
    "plt.show()"
   ]
  },
  {
   "cell_type": "code",
   "execution_count": 34,
   "metadata": {},
   "outputs": [],
   "source": [
    "x=data.iloc[:,6:7].values\n",
    "y=data.iloc[:,5].values"
   ]
  },
  {
   "cell_type": "code",
   "execution_count": 35,
   "metadata": {},
   "outputs": [
    {
     "name": "stdout",
     "output_type": "stream",
     "text": [
      "[[ 72]\n",
      " [ 90]\n",
      " [ 95]\n",
      " [ 57]\n",
      " [ 78]\n",
      " [ 83]\n",
      " [ 95]\n",
      " [ 43]\n",
      " [ 64]\n",
      " [ 60]\n",
      " [ 54]\n",
      " [ 52]\n",
      " [ 81]\n",
      " [ 72]\n",
      " [ 53]\n",
      " [ 75]\n",
      " [ 89]\n",
      " [ 32]\n",
      " [ 42]\n",
      " [ 58]\n",
      " [ 69]\n",
      " [ 75]\n",
      " [ 54]\n",
      " [ 73]\n",
      " [ 71]\n",
      " [ 74]\n",
      " [ 54]\n",
      " [ 69]\n",
      " [ 70]\n",
      " [ 70]\n",
      " [ 74]\n",
      " [ 65]\n",
      " [ 72]\n",
      " [ 42]\n",
      " [ 87]\n",
      " [ 81]\n",
      " [ 81]\n",
      " [ 64]\n",
      " [ 90]\n",
      " [ 56]\n",
      " [ 61]\n",
      " [ 73]\n",
      " [ 58]\n",
      " [ 65]\n",
      " [ 56]\n",
      " [ 54]\n",
      " [ 65]\n",
      " [ 71]\n",
      " [ 74]\n",
      " [ 84]\n",
      " [ 55]\n",
      " [ 69]\n",
      " [ 44]\n",
      " [ 78]\n",
      " [ 84]\n",
      " [ 41]\n",
      " [ 85]\n",
      " [ 55]\n",
      " [ 59]\n",
      " [ 17]\n",
      " [ 74]\n",
      " [ 39]\n",
      " [ 61]\n",
      " [ 80]\n",
      " [ 58]\n",
      " [ 64]\n",
      " [ 37]\n",
      " [ 72]\n",
      " [ 58]\n",
      " [ 64]\n",
      " [ 63]\n",
      " [ 55]\n",
      " [ 51]\n",
      " [ 57]\n",
      " [ 49]\n",
      " [ 41]\n",
      " [ 26]\n",
      " [ 78]\n",
      " [ 74]\n",
      " [ 68]\n",
      " [ 49]\n",
      " [ 45]\n",
      " [ 47]\n",
      " [ 64]\n",
      " [ 39]\n",
      " [ 80]\n",
      " [ 83]\n",
      " [ 71]\n",
      " [ 70]\n",
      " [ 86]\n",
      " [ 72]\n",
      " [ 34]\n",
      " [ 79]\n",
      " [ 45]\n",
      " [ 86]\n",
      " [ 81]\n",
      " [ 66]\n",
      " [ 72]\n",
      " [ 67]\n",
      " [ 67]\n",
      " [ 67]\n",
      " [ 74]\n",
      " [ 91]\n",
      " [ 44]\n",
      " [ 86]\n",
      " [ 67]\n",
      " [100]\n",
      " [ 63]\n",
      " [ 76]\n",
      " [ 64]\n",
      " [ 89]\n",
      " [ 55]\n",
      " [ 53]\n",
      " [ 58]\n",
      " [100]\n",
      " [ 77]\n",
      " [ 85]\n",
      " [ 82]\n",
      " [ 63]\n",
      " [ 69]\n",
      " [ 92]\n",
      " [ 89]\n",
      " [ 93]\n",
      " [ 57]\n",
      " [ 80]\n",
      " [ 95]\n",
      " [ 68]\n",
      " [ 77]\n",
      " [ 82]\n",
      " [ 49]\n",
      " [ 84]\n",
      " [ 37]\n",
      " [ 74]\n",
      " [ 81]\n",
      " [ 79]\n",
      " [ 55]\n",
      " [ 54]\n",
      " [ 55]\n",
      " [ 66]\n",
      " [ 61]\n",
      " [ 72]\n",
      " [ 62]\n",
      " [ 55]\n",
      " [ 43]\n",
      " [ 73]\n",
      " [ 39]\n",
      " [ 84]\n",
      " [ 68]\n",
      " [ 75]\n",
      " [100]\n",
      " [ 67]\n",
      " [ 67]\n",
      " [ 70]\n",
      " [ 49]\n",
      " [ 67]\n",
      " [ 89]\n",
      " [ 74]\n",
      " [ 60]\n",
      " [ 86]\n",
      " [ 62]\n",
      " [ 78]\n",
      " [ 88]\n",
      " [ 53]\n",
      " [ 53]\n",
      " [ 92]\n",
      " [100]\n",
      " [ 51]\n",
      " [ 76]\n",
      " [ 83]\n",
      " [ 75]\n",
      " [ 73]\n",
      " [ 88]\n",
      " [ 86]\n",
      " [ 67]\n",
      " [ 51]\n",
      " [ 91]\n",
      " [ 54]\n",
      " [ 77]\n",
      " [ 70]\n",
      " [100]\n",
      " [ 68]\n",
      " [ 64]\n",
      " [ 50]\n",
      " [ 69]\n",
      " [ 52]\n",
      " [ 67]\n",
      " [ 76]\n",
      " [ 66]\n",
      " [ 52]\n",
      " [ 88]\n",
      " [ 65]\n",
      " [ 83]\n",
      " [ 64]\n",
      " [ 62]\n",
      " [ 84]\n",
      " [ 55]\n",
      " [ 69]\n",
      " [ 56]\n",
      " [ 53]\n",
      " [ 79]\n",
      " [ 84]\n",
      " [ 81]\n",
      " [ 77]\n",
      " [ 69]\n",
      " [ 41]\n",
      " [ 71]\n",
      " [ 62]\n",
      " [ 80]\n",
      " [ 81]\n",
      " [ 61]\n",
      " [ 79]\n",
      " [ 28]\n",
      " [ 62]\n",
      " [ 51]\n",
      " [ 91]\n",
      " [ 83]\n",
      " [ 86]\n",
      " [ 42]\n",
      " [ 77]\n",
      " [ 56]\n",
      " [ 68]\n",
      " [ 85]\n",
      " [ 65]\n",
      " [ 80]\n",
      " [ 66]\n",
      " [ 56]\n",
      " [ 72]\n",
      " [ 50]\n",
      " [ 72]\n",
      " [ 95]\n",
      " [ 64]\n",
      " [ 43]\n",
      " [ 86]\n",
      " [ 87]\n",
      " [ 82]\n",
      " [ 75]\n",
      " [ 66]\n",
      " [ 60]\n",
      " [ 52]\n",
      " [ 80]\n",
      " [ 68]\n",
      " [ 83]\n",
      " [ 52]\n",
      " [ 51]\n",
      " [ 74]\n",
      " [ 76]\n",
      " [ 76]\n",
      " [ 70]\n",
      " [ 64]\n",
      " [ 60]\n",
      " [ 49]\n",
      " [ 83]\n",
      " [ 70]\n",
      " [ 80]\n",
      " [ 52]\n",
      " [ 73]\n",
      " [ 73]\n",
      " [ 77]\n",
      " [ 75]\n",
      " [ 81]\n",
      " [ 79]\n",
      " [ 79]\n",
      " [ 50]\n",
      " [ 93]\n",
      " [ 73]\n",
      " [ 42]\n",
      " [ 75]\n",
      " [ 72]\n",
      " [ 92]\n",
      " [ 76]\n",
      " [ 63]\n",
      " [ 49]\n",
      " [ 53]\n",
      " [ 70]\n",
      " [ 85]\n",
      " [ 78]\n",
      " [ 92]\n",
      " [ 63]\n",
      " [ 86]\n",
      " [ 56]\n",
      " [ 52]\n",
      " [ 48]\n",
      " [ 79]\n",
      " [ 78]\n",
      " [ 46]\n",
      " [ 82]\n",
      " [ 82]\n",
      " [ 89]\n",
      " [ 75]\n",
      " [ 76]\n",
      " [ 70]\n",
      " [ 73]\n",
      " [ 60]\n",
      " [ 73]\n",
      " [ 77]\n",
      " [ 62]\n",
      " [ 41]\n",
      " [ 74]\n",
      " [ 46]\n",
      " [ 87]\n",
      " [ 78]\n",
      " [ 54]\n",
      " [ 84]\n",
      " [ 76]\n",
      " [ 75]\n",
      " [ 67]\n",
      " [ 87]\n",
      " [ 52]\n",
      " [ 71]\n",
      " [ 57]\n",
      " [ 76]\n",
      " [ 60]\n",
      " [ 61]\n",
      " [ 67]\n",
      " [ 64]\n",
      " [ 66]\n",
      " [ 82]\n",
      " [ 72]\n",
      " [ 71]\n",
      " [ 65]\n",
      " [ 79]\n",
      " [ 86]\n",
      " [ 81]\n",
      " [ 53]\n",
      " [ 46]\n",
      " [ 90]\n",
      " [ 61]\n",
      " [ 23]\n",
      " [ 75]\n",
      " [ 55]\n",
      " [ 60]\n",
      " [ 37]\n",
      " [ 56]\n",
      " [ 78]\n",
      " [ 93]\n",
      " [ 68]\n",
      " [ 70]\n",
      " [ 51]\n",
      " [ 38]\n",
      " [ 55]\n",
      " [ 61]\n",
      " [ 73]\n",
      " [ 76]\n",
      " [ 72]\n",
      " [ 73]\n",
      " [ 80]\n",
      " [ 61]\n",
      " [ 94]\n",
      " [ 74]\n",
      " [ 74]\n",
      " [ 65]\n",
      " [ 57]\n",
      " [ 78]\n",
      " [ 58]\n",
      " [ 71]\n",
      " [ 72]\n",
      " [ 61]\n",
      " [ 66]\n",
      " [ 62]\n",
      " [ 90]\n",
      " [ 62]\n",
      " [ 84]\n",
      " [ 58]\n",
      " [ 34]\n",
      " [ 60]\n",
      " [ 58]\n",
      " [ 58]\n",
      " [ 66]\n",
      " [ 64]\n",
      " [ 84]\n",
      " [ 77]\n",
      " [ 73]\n",
      " [ 74]\n",
      " [ 97]\n",
      " [ 70]\n",
      " [ 43]\n",
      " [ 90]\n",
      " [ 95]\n",
      " [ 83]\n",
      " [ 64]\n",
      " [ 86]\n",
      " [100]\n",
      " [ 81]\n",
      " [ 49]\n",
      " [ 43]\n",
      " [ 76]\n",
      " [ 73]\n",
      " [ 78]\n",
      " [ 64]\n",
      " [ 70]\n",
      " [ 67]\n",
      " [ 68]\n",
      " [ 67]\n",
      " [ 54]\n",
      " [ 74]\n",
      " [ 45]\n",
      " [ 67]\n",
      " [ 89]\n",
      " [ 63]\n",
      " [ 59]\n",
      " [ 54]\n",
      " [ 43]\n",
      " [ 65]\n",
      " [ 99]\n",
      " [ 59]\n",
      " [ 73]\n",
      " [ 65]\n",
      " [ 80]\n",
      " [ 57]\n",
      " [ 84]\n",
      " [ 71]\n",
      " [ 83]\n",
      " [ 66]\n",
      " [ 67]\n",
      " [ 72]\n",
      " [ 73]\n",
      " [ 74]\n",
      " [ 73]\n",
      " [ 59]\n",
      " [ 56]\n",
      " [ 93]\n",
      " [ 58]\n",
      " [ 58]\n",
      " [ 85]\n",
      " [ 39]\n",
      " [ 67]\n",
      " [ 83]\n",
      " [ 71]\n",
      " [ 59]\n",
      " [ 63]\n",
      " [ 66]\n",
      " [ 72]\n",
      " [ 56]\n",
      " [ 59]\n",
      " [ 66]\n",
      " [ 48]\n",
      " [ 68]\n",
      " [ 66]\n",
      " [ 56]\n",
      " [ 88]\n",
      " [ 81]\n",
      " [ 81]\n",
      " [ 73]\n",
      " [ 83]\n",
      " [ 82]\n",
      " [ 74]\n",
      " [ 66]\n",
      " [ 81]\n",
      " [ 46]\n",
      " [ 73]\n",
      " [ 85]\n",
      " [ 92]\n",
      " [ 77]\n",
      " [ 58]\n",
      " [ 61]\n",
      " [ 56]\n",
      " [ 89]\n",
      " [ 54]\n",
      " [100]\n",
      " [ 65]\n",
      " [ 58]\n",
      " [ 54]\n",
      " [ 70]\n",
      " [ 90]\n",
      " [ 58]\n",
      " [ 87]\n",
      " [ 31]\n",
      " [ 67]\n",
      " [ 88]\n",
      " [ 74]\n",
      " [ 85]\n",
      " [ 69]\n",
      " [ 86]\n",
      " [ 67]\n",
      " [ 90]\n",
      " [ 76]\n",
      " [ 62]\n",
      " [ 68]\n",
      " [ 64]\n",
      " [ 71]\n",
      " [ 71]\n",
      " [ 59]\n",
      " [ 68]\n",
      " [ 52]\n",
      " [ 52]\n",
      " [ 74]\n",
      " [ 47]\n",
      " [ 75]\n",
      " [ 53]\n",
      " [ 82]\n",
      " [ 85]\n",
      " [ 64]\n",
      " [ 83]\n",
      " [ 88]\n",
      " [ 64]\n",
      " [ 64]\n",
      " [ 48]\n",
      " [ 78]\n",
      " [ 69]\n",
      " [ 71]\n",
      " [ 79]\n",
      " [ 87]\n",
      " [ 61]\n",
      " [ 89]\n",
      " [ 59]\n",
      " [ 82]\n",
      " [ 70]\n",
      " [ 59]\n",
      " [ 78]\n",
      " [ 92]\n",
      " [ 71]\n",
      " [ 50]\n",
      " [ 49]\n",
      " [ 61]\n",
      " [ 97]\n",
      " [ 87]\n",
      " [ 89]\n",
      " [ 74]\n",
      " [ 78]\n",
      " [ 78]\n",
      " [ 49]\n",
      " [ 86]\n",
      " [ 58]\n",
      " [ 59]\n",
      " [ 52]\n",
      " [ 60]\n",
      " [ 61]\n",
      " [ 53]\n",
      " [ 41]\n",
      " [ 74]\n",
      " [ 67]\n",
      " [ 54]\n",
      " [ 61]\n",
      " [ 88]\n",
      " [ 69]\n",
      " [ 83]\n",
      " [ 60]\n",
      " [ 66]\n",
      " [ 66]\n",
      " [ 92]\n",
      " [ 69]\n",
      " [ 82]\n",
      " [ 77]\n",
      " [ 95]\n",
      " [ 63]\n",
      " [ 83]\n",
      " [100]\n",
      " [ 67]\n",
      " [ 67]\n",
      " [ 72]\n",
      " [ 76]\n",
      " [ 90]\n",
      " [ 48]\n",
      " [ 62]\n",
      " [ 45]\n",
      " [ 39]\n",
      " [ 72]\n",
      " [ 67]\n",
      " [ 70]\n",
      " [ 66]\n",
      " [ 75]\n",
      " [ 74]\n",
      " [ 90]\n",
      " [ 80]\n",
      " [ 51]\n",
      " [ 43]\n",
      " [100]\n",
      " [ 71]\n",
      " [ 48]\n",
      " [ 68]\n",
      " [ 75]\n",
      " [ 96]\n",
      " [ 62]\n",
      " [ 66]\n",
      " [ 81]\n",
      " [ 55]\n",
      " [ 51]\n",
      " [ 91]\n",
      " [ 56]\n",
      " [ 61]\n",
      " [ 97]\n",
      " [ 79]\n",
      " [ 73]\n",
      " [ 75]\n",
      " [ 77]\n",
      " [ 76]\n",
      " [ 73]\n",
      " [ 63]\n",
      " [ 64]\n",
      " [ 66]\n",
      " [ 57]\n",
      " [ 62]\n",
      " [ 68]\n",
      " [ 76]\n",
      " [100]\n",
      " [ 79]\n",
      " [ 24]\n",
      " [ 54]\n",
      " [ 77]\n",
      " [ 82]\n",
      " [ 60]\n",
      " [ 29]\n",
      " [ 78]\n",
      " [ 57]\n",
      " [ 89]\n",
      " [ 72]\n",
      " [ 84]\n",
      " [ 58]\n",
      " [ 64]\n",
      " [ 63]\n",
      " [ 60]\n",
      " [ 59]\n",
      " [ 90]\n",
      " [ 77]\n",
      " [ 93]\n",
      " [ 68]\n",
      " [ 45]\n",
      " [ 78]\n",
      " [ 81]\n",
      " [ 73]\n",
      " [ 61]\n",
      " [ 63]\n",
      " [ 51]\n",
      " [ 96]\n",
      " [ 58]\n",
      " [ 97]\n",
      " [ 70]\n",
      " [ 48]\n",
      " [ 57]\n",
      " [ 51]\n",
      " [ 64]\n",
      " [ 60]\n",
      " [ 74]\n",
      " [ 88]\n",
      " [ 84]\n",
      " [ 74]\n",
      " [ 80]\n",
      " [ 92]\n",
      " [ 76]\n",
      " [ 74]\n",
      " [ 52]\n",
      " [ 88]\n",
      " [ 81]\n",
      " [ 79]\n",
      " [ 65]\n",
      " [ 81]\n",
      " [ 70]\n",
      " [ 62]\n",
      " [ 53]\n",
      " [ 79]\n",
      " [ 56]\n",
      " [ 80]\n",
      " [ 86]\n",
      " [ 70]\n",
      " [ 79]\n",
      " [ 67]\n",
      " [ 67]\n",
      " [ 66]\n",
      " [ 60]\n",
      " [ 87]\n",
      " [ 77]\n",
      " [ 66]\n",
      " [ 71]\n",
      " [ 69]\n",
      " [ 63]\n",
      " [ 60]\n",
      " [ 73]\n",
      " [ 85]\n",
      " [ 74]\n",
      " [ 72]\n",
      " [ 76]\n",
      " [ 57]\n",
      " [ 78]\n",
      " [ 84]\n",
      " [ 77]\n",
      " [ 64]\n",
      " [ 78]\n",
      " [ 82]\n",
      " [ 75]\n",
      " [ 61]\n",
      " [ 72]\n",
      " [ 68]\n",
      " [ 55]\n",
      " [ 40]\n",
      " [ 66]\n",
      " [ 99]\n",
      " [ 75]\n",
      " [ 78]\n",
      " [ 58]\n",
      " [ 90]\n",
      " [ 53]\n",
      " [ 76]\n",
      " [ 74]\n",
      " [ 77]\n",
      " [ 63]\n",
      " [ 89]\n",
      " [ 82]\n",
      " [ 72]\n",
      " [ 78]\n",
      " [ 66]\n",
      " [ 81]\n",
      " [ 67]\n",
      " [ 84]\n",
      " [ 64]\n",
      " [ 63]\n",
      " [ 72]\n",
      " [ 34]\n",
      " [ 59]\n",
      " [ 87]\n",
      " [ 61]\n",
      " [ 84]\n",
      " [ 85]\n",
      " [100]\n",
      " [ 81]\n",
      " [ 70]\n",
      " [ 94]\n",
      " [ 78]\n",
      " [ 96]\n",
      " [ 76]\n",
      " [ 73]\n",
      " [ 72]\n",
      " [ 59]\n",
      " [ 90]\n",
      " [ 48]\n",
      " [ 43]\n",
      " [ 74]\n",
      " [ 75]\n",
      " [ 51]\n",
      " [ 92]\n",
      " [ 39]\n",
      " [ 77]\n",
      " [ 46]\n",
      " [ 89]\n",
      " [ 47]\n",
      " [ 58]\n",
      " [ 57]\n",
      " [ 79]\n",
      " [ 66]\n",
      " [ 71]\n",
      " [ 60]\n",
      " [ 73]\n",
      " [ 57]\n",
      " [ 84]\n",
      " [ 73]\n",
      " [ 55]\n",
      " [ 79]\n",
      " [ 75]\n",
      " [ 64]\n",
      " [ 60]\n",
      " [ 84]\n",
      " [ 69]\n",
      " [ 72]\n",
      " [ 77]\n",
      " [ 90]\n",
      " [ 55]\n",
      " [ 95]\n",
      " [ 58]\n",
      " [ 68]\n",
      " [ 59]\n",
      " [ 77]\n",
      " [ 72]\n",
      " [ 58]\n",
      " [ 81]\n",
      " [ 62]\n",
      " [ 63]\n",
      " [ 72]\n",
      " [ 75]\n",
      " [ 62]\n",
      " [ 71]\n",
      " [ 60]\n",
      " [ 48]\n",
      " [ 73]\n",
      " [ 67]\n",
      " [ 78]\n",
      " [ 65]\n",
      " [ 58]\n",
      " [ 72]\n",
      " [ 44]\n",
      " [ 79]\n",
      " [ 85]\n",
      " [ 56]\n",
      " [ 90]\n",
      " [ 85]\n",
      " [ 59]\n",
      " [ 81]\n",
      " [ 51]\n",
      " [ 79]\n",
      " [ 38]\n",
      " [ 65]\n",
      " [ 65]\n",
      " [ 62]\n",
      " [ 66]\n",
      " [ 74]\n",
      " [ 84]\n",
      " [ 52]\n",
      " [ 68]\n",
      " [ 70]\n",
      " [ 84]\n",
      " [ 60]\n",
      " [ 55]\n",
      " [ 73]\n",
      " [ 80]\n",
      " [ 94]\n",
      " [ 85]\n",
      " [ 76]\n",
      " [ 81]\n",
      " [ 74]\n",
      " [ 45]\n",
      " [ 75]\n",
      " [ 54]\n",
      " [ 31]\n",
      " [ 47]\n",
      " [ 64]\n",
      " [ 84]\n",
      " [ 80]\n",
      " [ 86]\n",
      " [ 59]\n",
      " [ 70]\n",
      " [ 72]\n",
      " [ 91]\n",
      " [ 90]\n",
      " [ 90]\n",
      " [ 52]\n",
      " [ 87]\n",
      " [ 58]\n",
      " [ 67]\n",
      " [ 68]\n",
      " [ 69]\n",
      " [ 86]\n",
      " [ 54]\n",
      " [ 60]\n",
      " [ 86]\n",
      " [ 60]\n",
      " [ 82]\n",
      " [ 50]\n",
      " [ 64]\n",
      " [ 64]\n",
      " [ 82]\n",
      " [ 57]\n",
      " [ 77]\n",
      " [ 52]\n",
      " [ 58]\n",
      " [ 44]\n",
      " [ 77]\n",
      " [ 65]\n",
      " [ 85]\n",
      " [ 85]\n",
      " [ 54]\n",
      " [ 72]\n",
      " [ 75]\n",
      " [ 67]\n",
      " [ 68]\n",
      " [ 85]\n",
      " [ 67]\n",
      " [ 64]\n",
      " [ 97]\n",
      " [ 68]\n",
      " [ 79]\n",
      " [ 49]\n",
      " [ 73]\n",
      " [ 62]\n",
      " [ 86]\n",
      " [ 42]\n",
      " [ 71]\n",
      " [ 93]\n",
      " [ 82]\n",
      " [ 53]\n",
      " [ 42]\n",
      " [ 74]\n",
      " [ 51]\n",
      " [ 58]\n",
      " [ 72]\n",
      " [ 84]\n",
      " [ 90]\n",
      " [ 62]\n",
      " [ 64]\n",
      " [ 82]\n",
      " [ 61]\n",
      " [ 72]\n",
      " [ 76]\n",
      " [ 64]\n",
      " [ 70]\n",
      " [ 73]\n",
      " [ 46]\n",
      " [ 51]\n",
      " [ 76]\n",
      " [100]\n",
      " [ 72]\n",
      " [ 65]\n",
      " [ 51]\n",
      " [ 85]\n",
      " [ 92]\n",
      " [ 67]\n",
      " [ 74]\n",
      " [ 62]\n",
      " [ 34]\n",
      " [ 29]\n",
      " [ 78]\n",
      " [ 54]\n",
      " [ 78]\n",
      " [ 84]\n",
      " [ 78]\n",
      " [ 48]\n",
      " [100]\n",
      " [ 84]\n",
      " [ 77]\n",
      " [ 48]\n",
      " [ 84]\n",
      " [ 75]\n",
      " [ 64]\n",
      " [ 42]\n",
      " [ 84]\n",
      " [ 61]\n",
      " [ 62]\n",
      " [ 61]\n",
      " [ 70]\n",
      " [100]\n",
      " [ 61]\n",
      " [ 77]\n",
      " [ 96]\n",
      " [ 70]\n",
      " [ 53]\n",
      " [ 66]\n",
      " [ 65]\n",
      " [ 70]\n",
      " [ 64]\n",
      " [ 56]\n",
      " [ 61]\n",
      " [ 43]\n",
      " [ 56]\n",
      " [ 74]\n",
      " [ 57]\n",
      " [ 71]\n",
      " [ 75]\n",
      " [ 87]\n",
      " [ 63]\n",
      " [ 57]\n",
      " [ 58]\n",
      " [ 81]\n",
      " [ 68]\n",
      " [ 66]\n",
      " [ 91]\n",
      " [ 66]\n",
      " [ 62]\n",
      " [ 68]\n",
      " [ 61]\n",
      " [ 82]\n",
      " [ 58]\n",
      " [ 50]\n",
      " [ 75]\n",
      " [ 73]\n",
      " [ 77]\n",
      " [ 74]\n",
      " [ 52]\n",
      " [ 69]\n",
      " [ 57]\n",
      " [ 87]\n",
      " [100]\n",
      " [ 63]\n",
      " [ 81]\n",
      " [ 58]\n",
      " [ 54]\n",
      " [100]\n",
      " [ 76]\n",
      " [ 57]\n",
      " [ 70]\n",
      " [ 68]\n",
      " [ 63]\n",
      " [ 76]\n",
      " [ 84]\n",
      " [100]\n",
      " [ 72]\n",
      " [ 50]\n",
      " [ 65]\n",
      " [ 63]\n",
      " [ 82]\n",
      " [ 62]\n",
      " [ 65]\n",
      " [ 41]\n",
      " [ 95]\n",
      " [ 24]\n",
      " [ 78]\n",
      " [ 85]\n",
      " [ 87]\n",
      " [ 75]\n",
      " [ 51]\n",
      " [ 59]\n",
      " [ 75]\n",
      " [ 45]\n",
      " [ 86]\n",
      " [ 81]\n",
      " [ 82]\n",
      " [ 76]\n",
      " [ 72]\n",
      " [ 63]\n",
      " [ 99]\n",
      " [ 55]\n",
      " [ 71]\n",
      " [ 78]\n",
      " [ 86]]\n"
     ]
    }
   ],
   "source": [
    "print(x)"
   ]
  },
  {
   "cell_type": "code",
   "execution_count": 36,
   "metadata": {},
   "outputs": [
    {
     "name": "stdout",
     "output_type": "stream",
     "text": [
      "[ 72  69  90  47  76  71  88  40  64  38  58  40  65  78  50  69  88  18\n",
      "  46  54  66  65  44  69  74  73  69  67  70  62  69  63  56  40  97  81\n",
      "  74  50  75  57  55  58  53  59  50  65  55  66  57  82  53  77  53  88\n",
      "  71  33  82  52  58   0  79  39  62  69  59  67  45  60  61  39  58  63\n",
      "  41  61  49  44  30  80  61  62  47  49  50  72  42  73  76  71  58  73\n",
      "  65  27  71  43  79  78  65  63  58  65  79  68  85  60  98  58  87  66\n",
      "  52  70  77  62  54  51  99  84  75  78  51  55  79  91  88  63  83  87\n",
      "  72  65  82  51  89  53  87  75  74  58  51  70  59  71  76  59  42  57\n",
      "  88  22  88  73  68 100  62  77  59  54  62  70  66  60  61  66  82  75\n",
      "  49  52  81  96  53  58  68  67  72  94  79  63  43  81  46  71  52  97\n",
      "  62  46  50  65  45  65  80  62  48  77  66  76  62  77  69  61  59  55\n",
      "  45  78  67  65  69  57  59  74  82  81  74  58  80  35  42  60  87  84\n",
      "  83  34  66  61  56  87  55  86  52  45  72  57  68  88  76  46  67  92\n",
      "  83  80  63  64  54  84  73  80  56  59  75  85  89  58  65  68  47  71\n",
      "  60  80  54  62  64  78  70  65  64  79  44  99  76  59  63  69  88  71\n",
      "  69  58  47  65  88  83  85  59  65  73  53  45  73  70  37  81  97  67\n",
      "  88  77  76  86  63  65  78  67  46  71  40  90  81  56  67  80  74  69\n",
      "  99  51  53  49  73  66  67  68  59  71  77  83  63  56  67  75  71  43\n",
      "  41  82  61  28  82  41  71  47  62  90  83  61  76  49  24  35  58  61\n",
      "  69  67  79  72  62  77  75  87  52  66  63  46  59  61  63  42  59  80\n",
      "  58  85  52  27  59  49  69  61  44  73  84  45  74  82  59  46  80  85\n",
      "  71  66  80  87  79  38  38  67  64  57  62  73  73  77  76  57  65  48\n",
      "  50  85  74  60  59  53  49  88  54  63  65  82  52  87  70  84  71  63\n",
      "  51  84  71  74  68  57  82  57  47  59  41  62  86  69  65  68  64  61\n",
      "  61  47  73  50  75  75  70  89  67  78  59  73  79  67  69  86  47  81\n",
      "  64 100  65  65  53  37  79  53 100  72  53  54  71  77  75  84  26  72\n",
      "  77  91  83  63  68  59  90  71  76  80  55  76  73  52  68  59  49  70\n",
      "  61  60  64  79  65  64  83  81  54  68  54  59  66  76  74  94  63  95\n",
      "  40  82  68  55  79  86  76  64  62  54  77  76  74  66  66  67  71  91\n",
      "  69  54  53  68  56  36  29  62  68  47  62  79  73  66  51  51  85  97\n",
      "  75  79  81  82  64  78  92  72  62  79  79  87  40  77  53  32  55  61\n",
      "  53  73  74  63  96  63  48  48  92  61  63  68  71  91  53  50  74  40\n",
      "  61  81  48  53  81  77  63  73  69  65  55  44  54  48  58  71  68  74\n",
      "  92  56  30  53  69  65  54  29  76  60  84  75  85  40  61  58  69  58\n",
      "  94  65  82  60  37  88  95  65  35  62  58 100  61 100  69  61  49  44\n",
      "  67  79  66  75  84  71  67  80  86  76  41  74  72  74  70  65  59  64\n",
      "  50  69  51  68  85  65  73  62  77  69  43  90  74  73  55  65  80  50\n",
      "  63  77  73  81  66  52  69  65  69  50  73  70  81  63  67  60  62  29\n",
      "  62  94  85  77  53  93  49  73  66  77  49  79  75  59  57  66  79  57\n",
      "  87  63  59  62  46  66  89  42  93  80  98  81  60  76  73  96  76  91\n",
      "  62  55  74  50  47  81  65  68  73  53  68  55  87  55  53  67  92  53\n",
      "  81  61  80  37  81  59  55  72  69  69  50  87  71  68  79  77  58  84\n",
      "  55  70  52  69  53  48  78  62  60  74  58  76  68  58  52  75  52  62\n",
      "  66  49  66  35  72  94  46  77  76  52  91  32  72  19  68  52  48  60\n",
      "  66  89  42  57  70  70  69  52  67  76  87  82  73  75  64  41  90  59\n",
      "  51  45  54  87  72  94  45  61  60  77  85  78  49  71  48  62  56  65\n",
      "  69  68  61  74  64  77  58  60  73  75  58  66  39  64  23  74  40  90\n",
      "  91  64  59  80  71  61  87  82  62  97  75  65  52  87  53  81  39  71\n",
      "  97  82  59  61  78  49  59  70  82  90  43  80  81  57  59  64  63  71\n",
      "  64  55  51  62  93  54  69  44  86  85  50  88  59  32  36  63  67  65\n",
      "  85  73  34  93  67  88  57  79  67  70  50  69  52  47  46  68 100  44\n",
      "  57  91  69  35  72  54  74  74  64  65  46  48  67  62  61  70  98  70\n",
      "  67  57  85  77  72  78  81  61  58  54  82  49  49  57  94  75  74  58\n",
      "  62  72  84  92  45  75  56  48 100  65  72  62  66  63  68  75  89  78\n",
      "  53  49  54  64  60  62  55  91   8  81  79  78  74  57  40  81  44  67\n",
      "  86  65  55  62  63  88  62  59  68  77]\n"
     ]
    }
   ],
   "source": [
    "print(y)"
   ]
  },
  {
   "cell_type": "code",
   "execution_count": 37,
   "metadata": {},
   "outputs": [],
   "source": [
    "x_train,x_test,y_train,y_test=train_test_split(x,y,test_size=0.2,random_state=0)"
   ]
  },
  {
   "cell_type": "code",
   "execution_count": 38,
   "metadata": {},
   "outputs": [
    {
     "data": {
      "text/plain": [
       "LinearRegression(copy_X=True, fit_intercept=True, n_jobs=None, normalize=False)"
      ]
     },
     "execution_count": 38,
     "metadata": {},
     "output_type": "execute_result"
    }
   ],
   "source": [
    "linear_regressor=LinearRegression()\n",
    "linear_regressor.fit(x_train,y_train)"
   ]
  },
  {
   "cell_type": "code",
   "execution_count": 55,
   "metadata": {},
   "outputs": [
    {
     "name": "stdout",
     "output_type": "stream",
     "text": [
      "0.679959804151739\n"
     ]
    }
   ],
   "source": [
    "print(linear_regressor.score(x_train,y_train))"
   ]
  },
  {
   "cell_type": "code",
   "execution_count": 89,
   "metadata": {},
   "outputs": [
    {
     "name": "stdout",
     "output_type": "stream",
     "text": [
      "[68.42284604 69.28417017 46.02841873 59.80960477 73.59079081 68.42284604\n",
      " 65.83887366 43.44444635 81.34270795 35.6925292  47.75106698 66.70019779\n",
      " 76.17476319 75.31343906 54.64166    41.72179809 47.75106698 84.78800446\n",
      " 52.05768762 73.59079081 62.39357715 57.22563238 71.86814255 58.08695651\n",
      " 46.02841873 62.39357715 52.91901175 44.30577047 68.42284604 83.92668034\n",
      " 81.34270795 78.75873557 86.51065272 59.80960477 55.50298413 74.45211493\n",
      " 92.53992161 56.36430826 72.72946668 68.42284604 61.53225302 53.78033587\n",
      " 70.1454943  73.59079081 77.89741144 57.22563238 84.78800446 59.80960477\n",
      " 77.03608732 60.67092889 38.27650158 59.80960477 49.47371524 54.64166\n",
      " 42.58312222 69.28417017 52.05768762 60.67092889 71.00681842 62.39357715\n",
      " 64.97754953 74.45211493 53.78033587 72.72946668 64.1162254  65.83887366\n",
      " 69.28417017 52.91901175 66.70019779 50.33503936 67.56152191 81.34270795\n",
      " 69.28417017 66.70019779 54.64166    63.25490128 66.70019779 66.70019779\n",
      " 31.38590856 74.45211493 74.45211493 83.06535621 69.28417017 79.6200597\n",
      " 61.53225302 72.72946668 63.25490128 81.34270795 73.59079081 59.80960477\n",
      " 72.72946668 61.53225302 62.39357715 54.64166    71.86814255 70.1454943\n",
      " 47.75106698 71.86814255 63.25490128 62.39357715 50.33503936 83.92668034\n",
      " 61.53225302 47.75106698 68.42284604 75.31343906 69.28417017 62.39357715\n",
      " 60.67092889 84.78800446 68.42284604 71.00681842 33.10855682 57.22563238\n",
      " 69.28417017 71.86814255 77.89741144 76.17476319 77.03608732 58.94828064\n",
      " 54.64166    78.75873557 86.51065272 77.03608732 70.1454943  62.39357715\n",
      " 70.1454943  73.59079081 64.97754953 61.53225302 61.53225302 61.53225302\n",
      " 27.07928792 76.17476319 83.92668034 56.36430826 58.94828064 61.53225302\n",
      " 70.1454943  77.03608732 70.1454943  64.97754953 48.61239111 58.08695651\n",
      " 80.48138383 39.99914984 43.44444635 45.1670946  78.75873557 81.34270795\n",
      " 48.61239111 70.1454943  91.67859748 64.97754953 77.03608732 76.17476319\n",
      " 52.91901175 56.36430826 59.80960477 51.19636349 89.95594923 57.22563238\n",
      " 56.36430826 86.51065272 58.94828064 77.89741144 74.45211493 63.25490128\n",
      " 55.50298413 57.22563238 58.94828064 64.97754953 39.99914984 64.97754953\n",
      " 77.89741144 68.42284604 64.97754953 52.05768762 92.53992161 69.28417017\n",
      " 59.80960477 80.48138383 64.1162254  63.25490128 80.48138383 63.25490128\n",
      " 89.0946251  92.53992161 73.59079081 41.72179809 49.47371524 58.08695651\n",
      " 47.75106698 77.89741144 58.08695651 58.94828064 83.92668034 77.89741144\n",
      " 66.70019779 64.1162254 ]\n"
     ]
    }
   ],
   "source": [
    "y_pred=linear_regressor.predict(x_test)\n",
    "print(y_pred)"
   ]
  },
  {
   "cell_type": "code",
   "execution_count": 70,
   "metadata": {},
   "outputs": [
    {
     "data": {
      "image/png": "[encoded data removed]",
      "text/plain": [
       "<Figure size 432x288 with 1 Axes>"
      ]
     },
     "metadata": {
      "needs_background": "light"
     },
     "output_type": "display_data"
    }
   ],
   "source": [
    "plt.scatter(x_train,y_train,color=\"black\")\n",
    "plt.plot(x_train,linear_regressor.predict(x_train))\n",
    "plt.title(\"predicting math sore nwith reading score\")\n",
    "plt.xlabel(\"READING SCORE\")\n",
    "plt.ylabel(\"MATH SCORE\")\n",
    "plt.show()"
   ]
  },
  {
   "cell_type": "code",
   "execution_count": 71,
   "metadata": {},
   "outputs": [],
   "source": [
    "data[\"math grade\"]=np.where(data[\"math score\"]<45 , \"Fail\", \"Pass\")\n",
    "data[\"reading grade\"]=np.where(data[\"math score\"]<45 , \"Fail\", \"Pass\")\n",
    "data[\"writing grade\"]=np.where(data[\"math score\"]<45 , \"Fail\", \"Pass\")"
   ]
  },
  {
   "cell_type": "code",
   "execution_count": 72,
   "metadata": {},
   "outputs": [
    {
     "data": {
      "text/html": [
       "<div>\n",
       "<style scoped>\n",
       "    .dataframe tbody tr th:only-of-type {\n",
       "        vertical-align: middle;\n",
       "    }\n",
       "\n",
       "    .dataframe tbody tr th {\n",
       "        vertical-align: top;\n",
       "    }\n",
       "\n",
       "    .dataframe thead th {\n",
       "        text-align: right;\n",
       "    }\n",
       "</style>\n",
       "<table border=\"1\" class=\"dataframe\">\n",
       "  <thead>\n",
       "    <tr style=\"text-align: right;\">\n",
       "      <th></th>\n",
       "      <th>gender</th>\n",
       "      <th>race/ethnicity</th>\n",
       "      <th>parental level of education</th>\n",
       "      <th>lunch</th>\n",
       "      <th>test preparation course</th>\n",
       "      <th>math score</th>\n",
       "      <th>reading score</th>\n",
       "      <th>writing score</th>\n",
       "      <th>math grade</th>\n",
       "      <th>reading grade</th>\n",
       "      <th>writing grade</th>\n",
       "    </tr>\n",
       "  </thead>\n",
       "  <tbody>\n",
       "    <tr>\n",
       "      <td>0</td>\n",
       "      <td>female</td>\n",
       "      <td>group B</td>\n",
       "      <td>bachelor's degree</td>\n",
       "      <td>standard</td>\n",
       "      <td>none</td>\n",
       "      <td>72</td>\n",
       "      <td>72</td>\n",
       "      <td>74</td>\n",
       "      <td>Pass</td>\n",
       "      <td>Pass</td>\n",
       "      <td>Pass</td>\n",
       "    </tr>\n",
       "    <tr>\n",
       "      <td>1</td>\n",
       "      <td>female</td>\n",
       "      <td>group C</td>\n",
       "      <td>some college</td>\n",
       "      <td>standard</td>\n",
       "      <td>completed</td>\n",
       "      <td>69</td>\n",
       "      <td>90</td>\n",
       "      <td>88</td>\n",
       "      <td>Pass</td>\n",
       "      <td>Pass</td>\n",
       "      <td>Pass</td>\n",
       "    </tr>\n",
       "    <tr>\n",
       "      <td>2</td>\n",
       "      <td>female</td>\n",
       "      <td>group B</td>\n",
       "      <td>master's degree</td>\n",
       "      <td>standard</td>\n",
       "      <td>none</td>\n",
       "      <td>90</td>\n",
       "      <td>95</td>\n",
       "      <td>93</td>\n",
       "      <td>Pass</td>\n",
       "      <td>Pass</td>\n",
       "      <td>Pass</td>\n",
       "    </tr>\n",
       "    <tr>\n",
       "      <td>3</td>\n",
       "      <td>male</td>\n",
       "      <td>group A</td>\n",
       "      <td>associate's degree</td>\n",
       "      <td>free/reduced</td>\n",
       "      <td>none</td>\n",
       "      <td>47</td>\n",
       "      <td>57</td>\n",
       "      <td>44</td>\n",
       "      <td>Pass</td>\n",
       "      <td>Pass</td>\n",
       "      <td>Pass</td>\n",
       "    </tr>\n",
       "    <tr>\n",
       "      <td>4</td>\n",
       "      <td>male</td>\n",
       "      <td>group C</td>\n",
       "      <td>some college</td>\n",
       "      <td>standard</td>\n",
       "      <td>none</td>\n",
       "      <td>76</td>\n",
       "      <td>78</td>\n",
       "      <td>75</td>\n",
       "      <td>Pass</td>\n",
       "      <td>Pass</td>\n",
       "      <td>Pass</td>\n",
       "    </tr>\n",
       "    <tr>\n",
       "      <td>5</td>\n",
       "      <td>female</td>\n",
       "      <td>group B</td>\n",
       "      <td>associate's degree</td>\n",
       "      <td>standard</td>\n",
       "      <td>none</td>\n",
       "      <td>71</td>\n",
       "      <td>83</td>\n",
       "      <td>78</td>\n",
       "      <td>Pass</td>\n",
       "      <td>Pass</td>\n",
       "      <td>Pass</td>\n",
       "    </tr>\n",
       "    <tr>\n",
       "      <td>6</td>\n",
       "      <td>female</td>\n",
       "      <td>group B</td>\n",
       "      <td>some college</td>\n",
       "      <td>standard</td>\n",
       "      <td>completed</td>\n",
       "      <td>88</td>\n",
       "      <td>95</td>\n",
       "      <td>92</td>\n",
       "      <td>Pass</td>\n",
       "      <td>Pass</td>\n",
       "      <td>Pass</td>\n",
       "    </tr>\n",
       "    <tr>\n",
       "      <td>7</td>\n",
       "      <td>male</td>\n",
       "      <td>group B</td>\n",
       "      <td>some college</td>\n",
       "      <td>free/reduced</td>\n",
       "      <td>none</td>\n",
       "      <td>40</td>\n",
       "      <td>43</td>\n",
       "      <td>39</td>\n",
       "      <td>Fail</td>\n",
       "      <td>Fail</td>\n",
       "      <td>Fail</td>\n",
       "    </tr>\n",
       "    <tr>\n",
       "      <td>8</td>\n",
       "      <td>male</td>\n",
       "      <td>group D</td>\n",
       "      <td>high school</td>\n",
       "      <td>free/reduced</td>\n",
       "      <td>completed</td>\n",
       "      <td>64</td>\n",
       "      <td>64</td>\n",
       "      <td>67</td>\n",
       "      <td>Pass</td>\n",
       "      <td>Pass</td>\n",
       "      <td>Pass</td>\n",
       "    </tr>\n",
       "    <tr>\n",
       "      <td>9</td>\n",
       "      <td>female</td>\n",
       "      <td>group B</td>\n",
       "      <td>high school</td>\n",
       "      <td>free/reduced</td>\n",
       "      <td>none</td>\n",
       "      <td>38</td>\n",
       "      <td>60</td>\n",
       "      <td>50</td>\n",
       "      <td>Fail</td>\n",
       "      <td>Fail</td>\n",
       "      <td>Fail</td>\n",
       "    </tr>\n",
       "    <tr>\n",
       "      <td>10</td>\n",
       "      <td>male</td>\n",
       "      <td>group C</td>\n",
       "      <td>associate's degree</td>\n",
       "      <td>standard</td>\n",
       "      <td>none</td>\n",
       "      <td>58</td>\n",
       "      <td>54</td>\n",
       "      <td>52</td>\n",
       "      <td>Pass</td>\n",
       "      <td>Pass</td>\n",
       "      <td>Pass</td>\n",
       "    </tr>\n",
       "    <tr>\n",
       "      <td>11</td>\n",
       "      <td>male</td>\n",
       "      <td>group D</td>\n",
       "      <td>associate's degree</td>\n",
       "      <td>standard</td>\n",
       "      <td>none</td>\n",
       "      <td>40</td>\n",
       "      <td>52</td>\n",
       "      <td>43</td>\n",
       "      <td>Fail</td>\n",
       "      <td>Fail</td>\n",
       "      <td>Fail</td>\n",
       "    </tr>\n",
       "    <tr>\n",
       "      <td>12</td>\n",
       "      <td>female</td>\n",
       "      <td>group B</td>\n",
       "      <td>high school</td>\n",
       "      <td>standard</td>\n",
       "      <td>none</td>\n",
       "      <td>65</td>\n",
       "      <td>81</td>\n",
       "      <td>73</td>\n",
       "      <td>Pass</td>\n",
       "      <td>Pass</td>\n",
       "      <td>Pass</td>\n",
       "    </tr>\n",
       "    <tr>\n",
       "      <td>13</td>\n",
       "      <td>male</td>\n",
       "      <td>group A</td>\n",
       "      <td>some college</td>\n",
       "      <td>standard</td>\n",
       "      <td>completed</td>\n",
       "      <td>78</td>\n",
       "      <td>72</td>\n",
       "      <td>70</td>\n",
       "      <td>Pass</td>\n",
       "      <td>Pass</td>\n",
       "      <td>Pass</td>\n",
       "    </tr>\n",
       "    <tr>\n",
       "      <td>14</td>\n",
       "      <td>female</td>\n",
       "      <td>group A</td>\n",
       "      <td>master's degree</td>\n",
       "      <td>standard</td>\n",
       "      <td>none</td>\n",
       "      <td>50</td>\n",
       "      <td>53</td>\n",
       "      <td>58</td>\n",
       "      <td>Pass</td>\n",
       "      <td>Pass</td>\n",
       "      <td>Pass</td>\n",
       "    </tr>\n",
       "    <tr>\n",
       "      <td>15</td>\n",
       "      <td>female</td>\n",
       "      <td>group C</td>\n",
       "      <td>some high school</td>\n",
       "      <td>standard</td>\n",
       "      <td>none</td>\n",
       "      <td>69</td>\n",
       "      <td>75</td>\n",
       "      <td>78</td>\n",
       "      <td>Pass</td>\n",
       "      <td>Pass</td>\n",
       "      <td>Pass</td>\n",
       "    </tr>\n",
       "    <tr>\n",
       "      <td>16</td>\n",
       "      <td>male</td>\n",
       "      <td>group C</td>\n",
       "      <td>high school</td>\n",
       "      <td>standard</td>\n",
       "      <td>none</td>\n",
       "      <td>88</td>\n",
       "      <td>89</td>\n",
       "      <td>86</td>\n",
       "      <td>Pass</td>\n",
       "      <td>Pass</td>\n",
       "      <td>Pass</td>\n",
       "    </tr>\n",
       "    <tr>\n",
       "      <td>17</td>\n",
       "      <td>female</td>\n",
       "      <td>group B</td>\n",
       "      <td>some high school</td>\n",
       "      <td>free/reduced</td>\n",
       "      <td>none</td>\n",
       "      <td>18</td>\n",
       "      <td>32</td>\n",
       "      <td>28</td>\n",
       "      <td>Fail</td>\n",
       "      <td>Fail</td>\n",
       "      <td>Fail</td>\n",
       "    </tr>\n",
       "    <tr>\n",
       "      <td>18</td>\n",
       "      <td>male</td>\n",
       "      <td>group C</td>\n",
       "      <td>master's degree</td>\n",
       "      <td>free/reduced</td>\n",
       "      <td>completed</td>\n",
       "      <td>46</td>\n",
       "      <td>42</td>\n",
       "      <td>46</td>\n",
       "      <td>Pass</td>\n",
       "      <td>Pass</td>\n",
       "      <td>Pass</td>\n",
       "    </tr>\n",
       "    <tr>\n",
       "      <td>19</td>\n",
       "      <td>female</td>\n",
       "      <td>group C</td>\n",
       "      <td>associate's degree</td>\n",
       "      <td>free/reduced</td>\n",
       "      <td>none</td>\n",
       "      <td>54</td>\n",
       "      <td>58</td>\n",
       "      <td>61</td>\n",
       "      <td>Pass</td>\n",
       "      <td>Pass</td>\n",
       "      <td>Pass</td>\n",
       "    </tr>\n",
       "    <tr>\n",
       "      <td>20</td>\n",
       "      <td>male</td>\n",
       "      <td>group D</td>\n",
       "      <td>high school</td>\n",
       "      <td>standard</td>\n",
       "      <td>none</td>\n",
       "      <td>66</td>\n",
       "      <td>69</td>\n",
       "      <td>63</td>\n",
       "      <td>Pass</td>\n",
       "      <td>Pass</td>\n",
       "      <td>Pass</td>\n",
       "    </tr>\n",
       "    <tr>\n",
       "      <td>21</td>\n",
       "      <td>female</td>\n",
       "      <td>group B</td>\n",
       "      <td>some college</td>\n",
       "      <td>free/reduced</td>\n",
       "      <td>completed</td>\n",
       "      <td>65</td>\n",
       "      <td>75</td>\n",
       "      <td>70</td>\n",
       "      <td>Pass</td>\n",
       "      <td>Pass</td>\n",
       "      <td>Pass</td>\n",
       "    </tr>\n",
       "    <tr>\n",
       "      <td>22</td>\n",
       "      <td>male</td>\n",
       "      <td>group D</td>\n",
       "      <td>some college</td>\n",
       "      <td>standard</td>\n",
       "      <td>none</td>\n",
       "      <td>44</td>\n",
       "      <td>54</td>\n",
       "      <td>53</td>\n",
       "      <td>Fail</td>\n",
       "      <td>Fail</td>\n",
       "      <td>Fail</td>\n",
       "    </tr>\n",
       "    <tr>\n",
       "      <td>23</td>\n",
       "      <td>female</td>\n",
       "      <td>group C</td>\n",
       "      <td>some high school</td>\n",
       "      <td>standard</td>\n",
       "      <td>none</td>\n",
       "      <td>69</td>\n",
       "      <td>73</td>\n",
       "      <td>73</td>\n",
       "      <td>Pass</td>\n",
       "      <td>Pass</td>\n",
       "      <td>Pass</td>\n",
       "    </tr>\n",
       "    <tr>\n",
       "      <td>24</td>\n",
       "      <td>male</td>\n",
       "      <td>group D</td>\n",
       "      <td>bachelor's degree</td>\n",
       "      <td>free/reduced</td>\n",
       "      <td>completed</td>\n",
       "      <td>74</td>\n",
       "      <td>71</td>\n",
       "      <td>80</td>\n",
       "      <td>Pass</td>\n",
       "      <td>Pass</td>\n",
       "      <td>Pass</td>\n",
       "    </tr>\n",
       "    <tr>\n",
       "      <td>25</td>\n",
       "      <td>male</td>\n",
       "      <td>group A</td>\n",
       "      <td>master's degree</td>\n",
       "      <td>free/reduced</td>\n",
       "      <td>none</td>\n",
       "      <td>73</td>\n",
       "      <td>74</td>\n",
       "      <td>72</td>\n",
       "      <td>Pass</td>\n",
       "      <td>Pass</td>\n",
       "      <td>Pass</td>\n",
       "    </tr>\n",
       "    <tr>\n",
       "      <td>26</td>\n",
       "      <td>male</td>\n",
       "      <td>group B</td>\n",
       "      <td>some college</td>\n",
       "      <td>standard</td>\n",
       "      <td>none</td>\n",
       "      <td>69</td>\n",
       "      <td>54</td>\n",
       "      <td>55</td>\n",
       "      <td>Pass</td>\n",
       "      <td>Pass</td>\n",
       "      <td>Pass</td>\n",
       "    </tr>\n",
       "    <tr>\n",
       "      <td>27</td>\n",
       "      <td>female</td>\n",
       "      <td>group C</td>\n",
       "      <td>bachelor's degree</td>\n",
       "      <td>standard</td>\n",
       "      <td>none</td>\n",
       "      <td>67</td>\n",
       "      <td>69</td>\n",
       "      <td>75</td>\n",
       "      <td>Pass</td>\n",
       "      <td>Pass</td>\n",
       "      <td>Pass</td>\n",
       "    </tr>\n",
       "    <tr>\n",
       "      <td>28</td>\n",
       "      <td>male</td>\n",
       "      <td>group C</td>\n",
       "      <td>high school</td>\n",
       "      <td>standard</td>\n",
       "      <td>none</td>\n",
       "      <td>70</td>\n",
       "      <td>70</td>\n",
       "      <td>65</td>\n",
       "      <td>Pass</td>\n",
       "      <td>Pass</td>\n",
       "      <td>Pass</td>\n",
       "    </tr>\n",
       "    <tr>\n",
       "      <td>29</td>\n",
       "      <td>female</td>\n",
       "      <td>group D</td>\n",
       "      <td>master's degree</td>\n",
       "      <td>standard</td>\n",
       "      <td>none</td>\n",
       "      <td>62</td>\n",
       "      <td>70</td>\n",
       "      <td>75</td>\n",
       "      <td>Pass</td>\n",
       "      <td>Pass</td>\n",
       "      <td>Pass</td>\n",
       "    </tr>\n",
       "  </tbody>\n",
       "</table>\n",
       "</div>"
      ],
      "text/plain": [
       "    gender race/ethnicity parental level of education         lunch  \\\n",
       "0   female        group B           bachelor's degree      standard   \n",
       "1   female        group C                some college      standard   \n",
       "2   female        group B             master's degree      standard   \n",
       "3     male        group A          associate's degree  free/reduced   \n",
       "4     male        group C                some college      standard   \n",
       "5   female        group B          associate's degree      standard   \n",
       "6   female        group B                some college      standard   \n",
       "7     male        group B                some college  free/reduced   \n",
       "8     male        group D                 high school  free/reduced   \n",
       "9   female        group B                 high school  free/reduced   \n",
       "10    male        group C          associate's degree      standard   \n",
       "11    male        group D          associate's degree      standard   \n",
       "12  female        group B                 high school      standard   \n",
       "13    male        group A                some college      standard   \n",
       "14  female        group A             master's degree      standard   \n",
       "15  female        group C            some high school      standard   \n",
       "16    male        group C                 high school      standard   \n",
       "17  female        group B            some high school  free/reduced   \n",
       "18    male        group C             master's degree  free/reduced   \n",
       "19  female        group C          associate's degree  free/reduced   \n",
       "20    male        group D                 high school      standard   \n",
       "21  female        group B                some college  free/reduced   \n",
       "22    male        group D                some college      standard   \n",
       "23  female        group C            some high school      standard   \n",
       "24    male        group D           bachelor's degree  free/reduced   \n",
       "25    male        group A             master's degree  free/reduced   \n",
       "26    male        group B                some college      standard   \n",
       "27  female        group C           bachelor's degree      standard   \n",
       "28    male        group C                 high school      standard   \n",
       "29  female        group D             master's degree      standard   \n",
       "\n",
       "   test preparation course  math score  reading score  writing score  \\\n",
       "0                     none          72             72             74   \n",
       "1                completed          69             90             88   \n",
       "2                     none          90             95             93   \n",
       "3                     none          47             57             44   \n",
       "4                     none          76             78             75   \n",
       "5                     none          71             83             78   \n",
       "6                completed          88             95             92   \n",
       "7                     none          40             43             39   \n",
       "8                completed          64             64             67   \n",
       "9                     none          38             60             50   \n",
       "10                    none          58             54             52   \n",
       "11                    none          40             52             43   \n",
       "12                    none          65             81             73   \n",
       "13               completed          78             72             70   \n",
       "14                    none          50             53             58   \n",
       "15                    none          69             75             78   \n",
       "16                    none          88             89             86   \n",
       "17                    none          18             32             28   \n",
       "18               completed          46             42             46   \n",
       "19                    none          54             58             61   \n",
       "20                    none          66             69             63   \n",
       "21               completed          65             75             70   \n",
       "22                    none          44             54             53   \n",
       "23                    none          69             73             73   \n",
       "24               completed          74             71             80   \n",
       "25                    none          73             74             72   \n",
       "26                    none          69             54             55   \n",
       "27                    none          67             69             75   \n",
       "28                    none          70             70             65   \n",
       "29                    none          62             70             75   \n",
       "\n",
       "   math grade reading grade writing grade  \n",
       "0        Pass          Pass          Pass  \n",
       "1        Pass          Pass          Pass  \n",
       "2        Pass          Pass          Pass  \n",
       "3        Pass          Pass          Pass  \n",
       "4        Pass          Pass          Pass  \n",
       "5        Pass          Pass          Pass  \n",
       "6        Pass          Pass          Pass  \n",
       "7        Fail          Fail          Fail  \n",
       "8        Pass          Pass          Pass  \n",
       "9        Fail          Fail          Fail  \n",
       "10       Pass          Pass          Pass  \n",
       "11       Fail          Fail          Fail  \n",
       "12       Pass          Pass          Pass  \n",
       "13       Pass          Pass          Pass  \n",
       "14       Pass          Pass          Pass  \n",
       "15       Pass          Pass          Pass  \n",
       "16       Pass          Pass          Pass  \n",
       "17       Fail          Fail          Fail  \n",
       "18       Pass          Pass          Pass  \n",
       "19       Pass          Pass          Pass  \n",
       "20       Pass          Pass          Pass  \n",
       "21       Pass          Pass          Pass  \n",
       "22       Fail          Fail          Fail  \n",
       "23       Pass          Pass          Pass  \n",
       "24       Pass          Pass          Pass  \n",
       "25       Pass          Pass          Pass  \n",
       "26       Pass          Pass          Pass  \n",
       "27       Pass          Pass          Pass  \n",
       "28       Pass          Pass          Pass  \n",
       "29       Pass          Pass          Pass  "
      ]
     },
     "execution_count": 72,
     "metadata": {},
     "output_type": "execute_result"
    }
   ],
   "source": [
    "data.head(30)"
   ]
  },
  {
   "cell_type": "code",
   "execution_count": 73,
   "metadata": {},
   "outputs": [
    {
     "name": "stdout",
     "output_type": "stream",
     "text": [
      "mean_absolute_error is: 7.716733319559008\n",
      "Mean squared error is : 86.02373791316744\n",
      "Root mean squared error is : 9.274898269693713\n"
     ]
    }
   ],
   "source": [
    "mae=metrics.mean_absolute_error(linear_regressor.predict(x_test),y_test)\n",
    "mse=metrics.mean_squared_error(linear_regressor.predict(x_test),y_test)\n",
    "rmse=np.sqrt(mse)\n",
    "print('mean_absolute_error is:',mae)\n",
    "print('Mean squared error is :',mse)\n",
    "print('Root mean squared error is :',rmse)"
   ]
  },
  {
   "cell_type": "code",
   "execution_count": 78,
   "metadata": {},
   "outputs": [
    {
     "data": {
      "text/plain": [
       "math score       66.089\n",
       "reading score    69.169\n",
       "writing score    68.054\n",
       "dtype: float64"
      ]
     },
     "execution_count": 78,
     "metadata": {},
     "output_type": "execute_result"
    }
   ],
   "source": [
    "data.mean()"
   ]
  },
  {
   "cell_type": "code",
   "execution_count": 79,
   "metadata": {},
   "outputs": [
    {
     "data": {
      "text/plain": [
       "math score       229.918998\n",
       "reading score    213.165605\n",
       "writing score    230.907992\n",
       "dtype: float64"
      ]
     },
     "execution_count": 79,
     "metadata": {},
     "output_type": "execute_result"
    }
   ],
   "source": [
    "data.var()"
   ]
  },
  {
   "cell_type": "code",
   "execution_count": 80,
   "metadata": {},
   "outputs": [
    {
     "data": {
      "text/plain": [
       "math score       15.163080\n",
       "reading score    14.600192\n",
       "writing score    15.195657\n",
       "dtype: float64"
      ]
     },
     "execution_count": 80,
     "metadata": {},
     "output_type": "execute_result"
    }
   ],
   "source": [
    "data.std()"
   ]
  },
  {
   "cell_type": "code",
   "execution_count": 81,
   "metadata": {},
   "outputs": [
    {
     "name": "stdout",
     "output_type": "stream",
     "text": [
      "0.6203745343670679\n"
     ]
    }
   ],
   "source": [
    "print(linear_regressor.score(x_test,y_test))"
   ]
  },
  {
   "cell_type": "code",
   "execution_count": null,
   "metadata": {},
   "outputs": [],
   "source": []
  }
 ],
 "metadata": {
  "kernelspec": {
   "display_name": "Python 3",
   "language": "python",
   "name": "python3"
  },
  "language_info": {
   "codemirror_mode": {
    "name": "ipython",
    "version": 3
   },
   "file_extension": ".py",
   "mimetype": "text/x-python",
   "name": "python",
   "nbconvert_exporter": "python",
   "pygments_lexer": "ipython3",
   "version": "3.7.4"
  }
 },
 "nbformat": 4,
 "nbformat_minor": 2
}
