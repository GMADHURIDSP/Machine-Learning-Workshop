{
 "cells": [
  {
   "cell_type": "code",
   "execution_count": 1,
   "metadata": {},
   "outputs": [
    {
     "name": "stdout",
     "output_type": "stream",
     "text": [
      "7\n",
      "14\n",
      "21\n",
      "28\n",
      "42\n",
      "49\n"
     ]
    }
   ],
   "source": [
    "for i in range(1,50):\n",
    "    if i%7==0 and i%5!=0:\n",
    "        print(i)"
   ]
  },
  {
   "cell_type": "code",
   "execution_count": 2,
   "metadata": {},
   "outputs": [
    {
     "name": "stdout",
     "output_type": "stream",
     "text": [
      "7,14,21,28,42,49,56,63,77,84,91,98,112,119,126,133,147,154,161,168,182,189,196\n"
     ]
    }
   ],
   "source": [
    "l=[]\n",
    "for i in range(1,200):\n",
    "    if i%7==0 and i%5!=0:\n",
    "        l.append(str(i))\n",
    "print(','.join(l))"
   ]
  },
  {
   "cell_type": "code",
   "execution_count": 4,
   "metadata": {},
   "outputs": [
    {
     "name": "stdout",
     "output_type": "stream",
     "text": [
      "5\n",
      "120\n"
     ]
    }
   ],
   "source": [
    "def fact(x):\n",
    "    if(x==0):\n",
    "        return 1\n",
    "    return x*fact(x-1)\n",
    "x=int(input())\n",
    "print(fact(x)) "
   ]
  },
  {
   "cell_type": "code",
   "execution_count": 5,
   "metadata": {},
   "outputs": [
    {
     "name": "stdout",
     "output_type": "stream",
     "text": [
      "6\n",
      "{1: 1, 2: 4, 3: 9, 4: 16, 5: 25, 6: 36}\n"
     ]
    }
   ],
   "source": [
    "n=int(input())\n",
    "ans={i:i*i for i in range(1,n+1)}\n",
    "print(ans)"
   ]
  },
  {
   "cell_type": "code",
   "execution_count": 11,
   "metadata": {},
   "outputs": [
    {
     "name": "stdout",
     "output_type": "stream",
     "text": [
      "78\n",
      "{}\n"
     ]
    }
   ],
   "source": [
    "n=int(input())\n",
    "d=dict()\n",
    "for i in range(1,n+1):\n",
    "    for key,data in d:\n",
    "        d.dppend(i,i*i)\n",
    "print(d)\n"
   ]
  },
  {
   "cell_type": "code",
   "execution_count": 12,
   "metadata": {},
   "outputs": [
    {
     "name": "stdout",
     "output_type": "stream",
     "text": [
      "100,5,89\n",
      "18,4,17\n"
     ]
    }
   ],
   "source": [
    "import math\n",
    "c=50\n",
    "h=30\n",
    "l=[]\n",
    "items=[x for x in input().split(',')]\n",
    "for d in items:\n",
    "    l.append(str(int(round(math.sqrt(2*c*float(d)/h)))))\n",
    "print(','.join(l))"
   ]
  },
  {
   "cell_type": "code",
   "execution_count": 13,
   "metadata": {},
   "outputs": [
    {
     "name": "stdout",
     "output_type": "stream",
     "text": [
      "2,3\n",
      "13.0,28.0\n"
     ]
    }
   ],
   "source": [
    "import math\n",
    "p=22/7\n",
    "l=[]\n",
    "l1=[i for i in input().split(',')]\n",
    "for r in l1:\n",
    "    l.append(str(float(round(p*math.pow(int(r),2)))))\n",
    "print(','.join(l))"
   ]
  },
  {
   "cell_type": "code",
   "execution_count": 14,
   "metadata": {},
   "outputs": [
    {
     "name": "stdout",
     "output_type": "stream",
     "text": [
      "2,3\n",
      "[[0, 0, 0], [0, 1, 2]]\n"
     ]
    }
   ],
   "source": [
    "ip_str=input()\n",
    "dim=[int(x) for x in ip_str.split(',')]\n",
    "rnum=dim[0]\n",
    "cnum=dim[1]\n",
    "mullist=[[0 for col in range(cnum)] for row in range(rnum)]\n",
    "for row in range(rnum):\n",
    "    for col in range(cnum):\n",
    "        mullist[row][col]=row*col\n",
    "print(mullist)"
   ]
  },
  {
   "cell_type": "code",
   "execution_count": 42,
   "metadata": {},
   "outputs": [
    {
     "name": "stdout",
     "output_type": "stream",
     "text": [
      "r r r a a a\n",
      "['r', 'r', 'r', 'a', 'a', 'a']\n",
      "['a', 'a', 'a', 'r', 'r', 'r']\n",
      "r a a\n"
     ]
    }
   ],
   "source": [
    "ip=[x for x in input().split()]\n",
    "print(ip)\n",
    "print(sorted(ip))\n",
    "[ip.remove(i) for i in ip if ip.count(i)>1]\n",
    "print(\" \".join(ip))"
   ]
  },
  {
   "cell_type": "code",
   "execution_count": 39,
   "metadata": {},
   "outputs": [
    {
     "name": "stdout",
     "output_type": "stream",
     "text": [
      "hello world and hello\n",
      "and hello world\n"
     ]
    }
   ],
   "source": [
    "ip=input().split()\n",
    "[ip.remove(i) for i in ip if ip.count(i)>1]\n",
    "ip.sort()\n",
    "print(\" \".join(ip))"
   ]
  },
  {
   "cell_type": "code",
   "execution_count": 45,
   "metadata": {},
   "outputs": [
    {
     "name": "stdout",
     "output_type": "stream",
     "text": [
      "Enetr string:gowthu\n",
      "Enter element to delete:0\n",
      "Enter another element to delete1\n",
      "wthu\n"
     ]
    }
   ],
   "source": [
    "s=input(\"Enetr string:\")\n",
    "n=int(input(\"Enter element to delete:\"))\n",
    "m=int(input(\"Enter another element to delete\"))\n",
    "print(\"\".join(s[i] for i in range(0,len(s)) if i!=n and i!=m))"
   ]
  },
  {
   "cell_type": "code",
   "execution_count": 46,
   "metadata": {},
   "outputs": [
    {
     "name": "stdout",
     "output_type": "stream",
     "text": [
      "Press Enter to roll the dice\n",
      "You got 3\n",
      "Roll again?(y/n)y\n",
      "Press Enter to roll the dicen\n",
      "You got 3\n",
      "Roll again?(y/n)n\n"
     ]
    }
   ],
   "source": [
    "import random\n",
    "while True:\n",
    "    input(\"Press Enter to roll the dice\")\n",
    "    num=random.randint(1,6)\n",
    "    print(\"You got\",num)\n",
    "    option=input(\"Roll again?(y/n)\")\n",
    "    if option=='n':\n",
    "        break"
   ]
  },
  {
   "cell_type": "code",
   "execution_count": null,
   "metadata": {},
   "outputs": [],
   "source": []
  }
 ],
 "metadata": {
  "kernelspec": {
   "display_name": "Python 3",
   "language": "python",
   "name": "python3"
  },
  "language_info": {
   "codemirror_mode": {
    "name": "ipython",
    "version": 3
   },
   "file_extension": ".py",
   "mimetype": "text/x-python",
   "name": "python",
   "nbconvert_exporter": "python",
   "pygments_lexer": "ipython3",
   "version": "3.7.6"
  }
 },
 "nbformat": 4,
 "nbformat_minor": 2
}
