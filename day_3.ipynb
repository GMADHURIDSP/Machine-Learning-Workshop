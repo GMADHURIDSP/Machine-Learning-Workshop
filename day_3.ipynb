{
 "cells": [
  {
   "cell_type": "code",
   "execution_count": 5,
   "metadata": {},
   "outputs": [
    {
     "name": "stdout",
     "output_type": "stream",
     "text": [
      "0    1\n",
      "1    3\n",
      "2    4\n",
      "3    5\n",
      "4    6\n",
      "5    2\n",
      "6    9\n",
      "dtype: int64\n",
      "1    a\n",
      "3    b\n",
      "4    c\n",
      "5    d\n",
      "6    e\n",
      "2    f\n",
      "9    g\n",
      "dtype: object\n"
     ]
    }
   ],
   "source": [
    "import pandas as pd\n",
    "data=[1,3,4,5,6,2,9]\n",
    "s=pd.Series(data)\n",
    "print(s)\n",
    "index=['a','b','c','d','e','f','g']\n",
    "si=pd.Series(index,data)\n",
    "print(si)"
   ]
  },
  {
   "cell_type": "markdown",
   "metadata": {},
   "source": []
  },
  {
   "cell_type": "code",
   "execution_count": 2,
   "metadata": {},
   "outputs": [
    {
     "name": "stdout",
     "output_type": "stream",
     "text": [
      "a                                1\n",
      "b                                2\n",
      "c                               10\n",
      "dic    {'x': 20, 'y': 21, 'z': 22}\n",
      "d                                4\n",
      "e                                5\n",
      "ac                              10\n",
      "dtype: object\n"
     ]
    }
   ],
   "source": [
    "import pandas as pd\n",
    "d={'a':1,'b':2,'c':10,'dic':{'x':20,'y':21,'z':22},'d':4,'e':5,'ac':10}\n",
    "sd=pd.Series(d)\n",
    "print(sd)\n"
   ]
  },
  {
   "cell_type": "markdown",
   "metadata": {},
   "source": []
  },
  {
   "cell_type": "code",
   "execution_count": 4,
   "metadata": {},
   "outputs": [
    {
     "name": "stdout",
     "output_type": "stream",
     "text": [
      "0    [1, 2, 3]\n",
      "1    [5, 6, 7]\n",
      "dtype: object\n"
     ]
    }
   ],
   "source": [
    "import pandas as pd\n",
    "data=[[1,2,3],[5,6,7]]\n",
    "snd=pd.Series(data)\n",
    "print(snd)"
   ]
  },
  {
   "cell_type": "code",
   "execution_count": 14,
   "metadata": {},
   "outputs": [
    {
     "name": "stdout",
     "output_type": "stream",
     "text": [
      "   first  second\n",
      "a    1.0       5\n",
      "b    2.0       6\n",
      "c    NaN       6\n",
      "first             {'a': 1, 'b': 2}\n",
      "second    {'a': 5, 'b': 6, 'c': 6}\n",
      "dtype: object\n"
     ]
    }
   ],
   "source": [
    "import pandas as pd\n",
    "d1={'a':1,'b':2}\n",
    "d2={'a':5,'b':6,'c':6}\n",
    "data={'first':d1,'second':d2}\n",
    "df=pd.DataFrame(data)\n",
    "print(df)\n",
    "df=pd.Series(data)\n",
    "print(df)"
   ]
  },
  {
   "cell_type": "code",
   "execution_count": 10,
   "metadata": {},
   "outputs": [
    {
     "name": "stdout",
     "output_type": "stream",
     "text": [
      "x     NaN\n",
      "y     NaN\n",
      "z     NaN\n",
      "c    10.0\n",
      "dtype: float64\n"
     ]
    }
   ],
   "source": [
    "import pandas as pd\n",
    "d={'a':1,'b':2,'c':10,'d':4}\n",
    "index=['x','y','z','c']\n",
    "sd=pd.Series(d,index)\n",
    "print(sd)\n"
   ]
  },
  {
   "cell_type": "code",
   "execution_count": 19,
   "metadata": {},
   "outputs": [
    {
     "name": "stdout",
     "output_type": "stream",
     "text": [
      "    first  second third\n",
      "0     NaN     1.1     a\n",
      "1     NaN     3.5     b\n",
      "2     NaN     4.7     c\n",
      "3     NaN     5.8     d\n",
      "4     NaN     2.9     e\n",
      "5     NaN     9.3   NaN\n",
      "10    1.0     NaN   NaN\n",
      "20    2.0     NaN   NaN\n",
      "30    3.0     NaN   NaN\n",
      "40    4.0     NaN   NaN\n",
      "50    5.0     NaN   NaN\n",
      "60    6.0     NaN   NaN\n",
      "90    9.0     NaN   NaN\n"
     ]
    }
   ],
   "source": [
    "import pandas as pd\n",
    "da=[1,3,4,5,6,2,9]\n",
    "pd.Series(da)\n",
    "index=[10,30,40,50,60,20,90]\n",
    "s1=pd.Series(da,index)\n",
    "#s1=pd.Series([1,3,4,5,6,2,9],[10,30,40,50,60,20,90])\n",
    "s2=pd.Series([1.1,3.5,4.7,5.8,2.9,9.3])\n",
    "s3=pd.Series(['a','b','c','d','e'])\n",
    "data={'first':s1,'second':s2,'third':s3}\n",
    "dfseries=pd.DataFrame(data)\n",
    "print(dfseries)\n"
   ]
  },
  {
   "cell_type": "code",
   "execution_count": 20,
   "metadata": {},
   "outputs": [
    {
     "name": "stdout",
     "output_type": "stream",
     "text": [
      "       first     second\n",
      "0  [2, 3, 4]  [2, 4, 8]\n",
      "1  [5, 6, 7]  [1, 3, 9]\n"
     ]
    }
   ],
   "source": [
    "import pandas as pd\n",
    "d1=[[2,3,4],[5,6,7]]\n",
    "d2=[[2,4,8],[1,3,9]]\n",
    "data={'first':d1,'second':d2}\n",
    "df2d=pd.DataFrame(data)\n",
    "print(df2d)"
   ]
  },
  {
   "cell_type": "code",
   "execution_count": 4,
   "metadata": {},
   "outputs": [
    {
     "data": {
      "image/png": "[encoded data removed]",
      "text/plain": [
       "<Figure size 432x288 with 1 Axes>"
      ]
     },
     "metadata": {
      "needs_background": "light"
     },
     "output_type": "display_data"
    },
    {
     "data": {
      "image/png": "[encoded data removed]",
      "text/plain": [
       "<Figure size 432x288 with 1 Axes>"
      ]
     },
     "metadata": {
      "needs_background": "light"
     },
     "output_type": "display_data"
    },
    {
     "data": {
      "image/png": "[encoded data removed]",
      "text/plain": [
       "<Figure size 432x288 with 1 Axes>"
      ]
     },
     "metadata": {},
     "output_type": "display_data"
    },
    {
     "data": {
      "image/png": "[encoded data removed]",
      "text/plain": [
       "<Figure size 432x288 with 1 Axes>"
      ]
     },
     "metadata": {
      "needs_background": "light"
     },
     "output_type": "display_data"
    }
   ],
   "source": [
    "from matplotlib import pyplot as plt\n",
    "#import matplotlib.pyplot as plt\n",
    "x = [2,3,4,5]\n",
    "y=[2,3,4,5]\n",
    "plt.plot(x,y)\n",
    "plt.show()\n",
    "plt.bar(x,y)\n",
    "plt.show()\n",
    "plt.pie(x)\n",
    "plt.show()\n",
    "plt.scatter(x,y)\n",
    "plt.show()"
   ]
  },
  {
   "cell_type": "code",
   "execution_count": 5,
   "metadata": {},
   "outputs": [
    {
     "data": {
      "image/png": "[encoded data removed]",
      "text/plain": [
       "<Figure size 432x288 with 1 Axes>"
      ]
     },
     "metadata": {
      "needs_background": "light"
     },
     "output_type": "display_data"
    }
   ],
   "source": [
    "plt.hist(x,y)\n",
    "plt.show()\n"
   ]
  },
  {
   "cell_type": "code",
   "execution_count": 12,
   "metadata": {},
   "outputs": [
    {
     "name": "stdout",
     "output_type": "stream",
     "text": [
      "up,5\n",
      "down,2\n",
      "right,7\n",
      "\n",
      "[['up', '5'], ['down', '2'], ['right', '7']]\n"
     ]
    }
   ],
   "source": [
    "l=[]\n",
    "while True:\n",
    "    s=input().split(',')\n",
    "    if not s[0]:\n",
    "        break\n",
    "    l.append(s)\n",
    "print(l)\n",
    "    \n"
   ]
  },
  {
   "cell_type": "code",
   "execution_count": null,
   "metadata": {},
   "outputs": [],
   "source": [
    "a = []\n",
    "d = 0\n",
    "while True:\n",
    "    l = input().split(',')\n",
    "    a.append(l)\n",
    "    if (l[0]=='u'):\n",
    "        d = d+int(l[1])\n",
    "    elif (l[0]=='d'):\n",
    "         d = d-int(l[1])\n",
    "    elif (l[0]=='l'):\n",
    "         d = d+int(l[1])\n",
    "    elif (l[0]=='r'):\n",
    "         d = d-int(l[1])\n",
    "    else:\n",
    "        print(d)"
   ]
  },
  {
   "cell_type": "code",
   "execution_count": 7,
   "metadata": {},
   "outputs": [
    {
     "name": "stdout",
     "output_type": "stream",
     "text": [
      "mammal\n",
      "i'm a mammal\n",
      "i'm not a dog\n"
     ]
    }
   ],
   "source": [
    "class Dog:\n",
    "    a1 = \"mammal\"\n",
    "    a2 = \"dog\"\n",
    "    def fun(self):\n",
    "        print(\"i'm a\",self.a1)\n",
    "        print(\"i'm not a\",self.a2)\n",
    "rodger = Dog()\n",
    "print(rodger.a1)\n",
    "rodger.fun()"
   ]
  },
  {
   "cell_type": "code",
   "execution_count": 4,
   "metadata": {},
   "outputs": [
    {
     "name": "stdout",
     "output_type": "stream",
     "text": [
      "aasdfg\n",
      "AASDFG\n"
     ]
    }
   ],
   "source": [
    "class IOstring:\n",
    "    def _init_(self):\n",
    "        pass\n",
    "    def getString(self):\n",
    "        self.s = input()\n",
    "    def printString(self):\n",
    "        print(self.s.upper())\n",
    "test = IOstring()\n",
    "test.getString()\n",
    "test.printString()"
   ]
  },
  {
   "cell_type": "code",
   "execution_count": 14,
   "metadata": {},
   "outputs": [
    {
     "name": "stdout",
     "output_type": "stream",
     "text": [
      "madhu\n",
      "MADHU\n",
      "parameter1\n",
      "parameter2\n"
     ]
    }
   ],
   "source": [
    "class IOstring:\n",
    "    def __init__(self,p1,p2):\n",
    "        self.p1 = p1\n",
    "        self.p2 = p2\n",
    "    def getString(self):\n",
    "        self.s = input()\"parameter1\", \"parameter2\"\n",
    "    def printString(self):\n",
    "        print(self.s.upper())\n",
    "        print(self.p1)\n",
    "        print(self.p2)\n",
    "test = IOstring()\n",
    "test.getString()\n",
    "test.printString()"
   ]
  },
  {
   "cell_type": "code",
   "execution_count": 21,
   "metadata": {},
   "outputs": [
    {
     "name": "stdout",
     "output_type": "stream",
     "text": [
      "madhu\n",
      "MADHU\n",
      "parameter1\n",
      "parameter2\n"
     ]
    }
   ],
   "source": [
    "class IOstring:\n",
    "    def __init__(self):\n",
    "        pass\n",
    "    def getString(self):\n",
    "        self.s = input()\n",
    "    def printString(self,p1,p2):\n",
    "        self.p1 = p1\n",
    "        self.p2 = p2\n",
    "        print(self.s.upper())\n",
    "        print(self.p1)\n",
    "        print(self.p2)\n",
    "test = IOstring()\n",
    "test.getString()\n",
    "test.printString(\"parameter1\", \"parameter2\")"
   ]
  },
  {
   "cell_type": "code",
   "execution_count": 3,
   "metadata": {},
   "outputs": [
    {
     "name": "stdout",
     "output_type": "stream",
     "text": [
      "hi hello hi hello how are u?\n",
      "{'are': 1, 'hello': 2, 'hi': 2, 'how': 1, 'u?': 1}\n"
     ]
    }
   ],
   "source": [
    "a = input().split(' ')\n",
    "a.sort()\n",
    "d={}\n",
    "for i in range(len(a)):\n",
    "    d[a[i]]=a.count(a[i])\n",
    "print(d)"
   ]
  },
  {
   "cell_type": "code",
   "execution_count": null,
   "metadata": {},
   "outputs": [],
   "source": []
  }
 ],
 "metadata": {
  "kernelspec": {
   "display_name": "Python 3",
   "language": "python",
   "name": "python3"
  },
  "language_info": {
   "codemirror_mode": {
    "name": "ipython",
    "version": 3
   },
   "file_extension": ".py",
   "mimetype": "text/x-python",
   "name": "python",
   "nbconvert_exporter": "python",
   "pygments_lexer": "ipython3",
   "version": "3.7.4"
  }
 },
 "nbformat": 4,
 "nbformat_minor": 2
}
